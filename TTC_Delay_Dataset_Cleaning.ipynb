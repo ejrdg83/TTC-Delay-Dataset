{
 "cells": [
  {
   "cell_type": "markdown",
   "metadata": {
    "id": "4ti7zJUl7spH"
   },
   "source": [
    "# **INTRODUCTION**\n",
    "\n",
    "---\n",
    "This notebook is one of the submissions done for Business Analytics Capstone.\n"
   ]
  },
  {
   "cell_type": "markdown",
   "metadata": {
    "id": "wHIW7y4gmMqv"
   },
   "source": [
    "We import the necessary libraries for this project."
   ]
  },
  {
   "cell_type": "code",
   "execution_count": 1,
   "metadata": {
    "id": "mzR3hc9MiZd1"
   },
   "outputs": [],
   "source": [
    "import pandas as pd\n",
    "import numpy as np\n",
    "import matplotlib.pyplot as plt\n",
    "import matplotlib.dates as mdates\n",
    "import textwrap\n",
    "import calendar\n",
    "from datetime import datetime"
   ]
  },
  {
   "cell_type": "markdown",
   "metadata": {
    "id": "EwBbSILbk3-w"
   },
   "source": [
    "The datasets that we are going to use were downloaded from the Toronto government's open data portal at https://open.toronto.ca/dataset/ttc-subway-delay-data/\n",
    "\n",
    "At the time of this project, the portal was last updated on October 18, 2024.\n",
    "\n",
    "The files were imported into python as excel files. The excel files containing data for periods June 2017 to 2021 have individual sheets containing the monthly data. We'll concatenate these into one annual data frame."
   ]
  },
  {
   "cell_type": "code",
   "execution_count": 2,
   "metadata": {},
   "outputs": [],
   "source": [
    "df_2024 = pd.read_excel('Excel Files/ttc-subway-delay-data-2024.xlsx', sheet_name = None)\n",
    "df_2023 = pd.read_excel('Excel Files/ttc-subway-delay-data-2023.xlsx', sheet_name = None)\n",
    "df_2022 = pd.read_excel('Excel Files/ttc-subway-delay-data-2022.xlsx', sheet_name = None)\n",
    "df_2021 = pd.read_excel('Excel Files/ttc-subway-delay-data-2021.xlsx', sheet_name = None)\n",
    "df_2020 = pd.read_excel('Excel Files/ttc-subway-delay-data-2020.xlsx', sheet_name = None)\n",
    "df_2019 = pd.read_excel('Excel Files/ttc-subway-delay-data-2019.xlsx', sheet_name = None)\n",
    "df_2018 = pd.read_excel('Excel Files/ttc-subway-delay-data-2018.xlsx', sheet_name = None)\n",
    "df_jan2014apr2017 = pd.read_excel('Excel Files/ttc-subway-delay-jan-2014-april-2017.xlsx', sheet_name = None)\n",
    "df_may2017dec2017 = pd.read_excel('Excel Files/ttc-subway-delay-may-december-2017.xlsx', sheet_name = None)\n",
    "\n",
    "df_2024 = pd.concat(df_2024.values(), ignore_index = True)\n",
    "df_2023 = pd.concat(df_2023.values(), ignore_index = True)\n",
    "df_2022 = pd.concat(df_2022.values(), ignore_index = True)\n",
    "df_2021 = pd.concat(df_2021.values(), ignore_index = True)\n",
    "df_2020 = pd.concat(df_2020.values(), ignore_index = True)\n",
    "df_2019 = pd.concat(df_2019.values(), ignore_index = True)\n",
    "df_2018 = pd.concat(df_2018.values(), ignore_index = True)\n",
    "df_jan2014apr2017 = pd.concat(df_jan2014apr2017.values(), ignore_index = True)\n",
    "df_may2017dec2017 = pd.concat(df_may2017dec2017.values(), ignore_index = True)\n",
    "df_codes = pd.read_excel('Excel Files/ttc-subway-delay-codes.xlsx')"
   ]
  },
  {
   "cell_type": "markdown",
   "metadata": {
    "id": "9FU2PpRumjjX"
   },
   "source": [
    "We combine the annual datasets into one dataframe, in preparation for data cleaning. For now, we're not including the data frame on the delay codes."
   ]
  },
  {
   "cell_type": "code",
   "execution_count": 3,
   "metadata": {
    "id": "24Hoqn9vkvJW"
   },
   "outputs": [],
   "source": [
    "df_master = pd.concat([df_2024, df_2023, df_2022, df_2021, df_2020, df_2019, df_2018, df_may2017dec2017, df_jan2014apr2017], ignore_index = True)"
   ]
  },
  {
   "cell_type": "markdown",
   "metadata": {
    "id": "qTMB4mE7n1ib"
   },
   "source": [
    "Let's look into the consolidated data set by describing it to see just what we're working with."
   ]
  },
  {
   "cell_type": "code",
   "execution_count": 4,
   "metadata": {
    "colab": {
     "base_uri": "https://localhost:8080/",
     "height": 419
    },
    "id": "2eu_PKWBlnXn",
    "outputId": "eb13207d-7318-483a-e207-10205a5c6d08"
   },
   "outputs": [
    {
     "data": {
      "text/html": [
       "<div>\n",
       "<style scoped>\n",
       "    .dataframe tbody tr th:only-of-type {\n",
       "        vertical-align: middle;\n",
       "    }\n",
       "\n",
       "    .dataframe tbody tr th {\n",
       "        vertical-align: top;\n",
       "    }\n",
       "\n",
       "    .dataframe thead th {\n",
       "        text-align: right;\n",
       "    }\n",
       "</style>\n",
       "<table border=\"1\" class=\"dataframe\">\n",
       "  <thead>\n",
       "    <tr style=\"text-align: right;\">\n",
       "      <th></th>\n",
       "      <th>Date</th>\n",
       "      <th>Time</th>\n",
       "      <th>Day</th>\n",
       "      <th>Station</th>\n",
       "      <th>Code</th>\n",
       "      <th>Min Delay</th>\n",
       "      <th>Min Gap</th>\n",
       "      <th>Bound</th>\n",
       "      <th>Line</th>\n",
       "      <th>Vehicle</th>\n",
       "    </tr>\n",
       "  </thead>\n",
       "  <tbody>\n",
       "    <tr>\n",
       "      <th>0</th>\n",
       "      <td>2024-01-01</td>\n",
       "      <td>02:00</td>\n",
       "      <td>Monday</td>\n",
       "      <td>SHEPPARD STATION</td>\n",
       "      <td>MUI</td>\n",
       "      <td>0</td>\n",
       "      <td>0</td>\n",
       "      <td>N</td>\n",
       "      <td>YU</td>\n",
       "      <td>5491</td>\n",
       "    </tr>\n",
       "    <tr>\n",
       "      <th>1</th>\n",
       "      <td>2024-01-01</td>\n",
       "      <td>02:00</td>\n",
       "      <td>Monday</td>\n",
       "      <td>DUNDAS STATION</td>\n",
       "      <td>MUIS</td>\n",
       "      <td>0</td>\n",
       "      <td>0</td>\n",
       "      <td>N</td>\n",
       "      <td>YU</td>\n",
       "      <td>0</td>\n",
       "    </tr>\n",
       "    <tr>\n",
       "      <th>2</th>\n",
       "      <td>2024-01-01</td>\n",
       "      <td>02:08</td>\n",
       "      <td>Monday</td>\n",
       "      <td>DUNDAS STATION</td>\n",
       "      <td>MUPAA</td>\n",
       "      <td>4</td>\n",
       "      <td>10</td>\n",
       "      <td>N</td>\n",
       "      <td>YU</td>\n",
       "      <td>6051</td>\n",
       "    </tr>\n",
       "    <tr>\n",
       "      <th>3</th>\n",
       "      <td>2024-01-01</td>\n",
       "      <td>02:13</td>\n",
       "      <td>Monday</td>\n",
       "      <td>KENNEDY BD STATION</td>\n",
       "      <td>PUTDN</td>\n",
       "      <td>10</td>\n",
       "      <td>16</td>\n",
       "      <td>E</td>\n",
       "      <td>BD</td>\n",
       "      <td>5284</td>\n",
       "    </tr>\n",
       "    <tr>\n",
       "      <th>4</th>\n",
       "      <td>2024-01-01</td>\n",
       "      <td>02:22</td>\n",
       "      <td>Monday</td>\n",
       "      <td>BLOOR STATION</td>\n",
       "      <td>MUPAA</td>\n",
       "      <td>4</td>\n",
       "      <td>10</td>\n",
       "      <td>N</td>\n",
       "      <td>YU</td>\n",
       "      <td>5986</td>\n",
       "    </tr>\n",
       "    <tr>\n",
       "      <th>...</th>\n",
       "      <td>...</td>\n",
       "      <td>...</td>\n",
       "      <td>...</td>\n",
       "      <td>...</td>\n",
       "      <td>...</td>\n",
       "      <td>...</td>\n",
       "      <td>...</td>\n",
       "      <td>...</td>\n",
       "      <td>...</td>\n",
       "      <td>...</td>\n",
       "    </tr>\n",
       "    <tr>\n",
       "      <th>215597</th>\n",
       "      <td>2017-04-30</td>\n",
       "      <td>19:50</td>\n",
       "      <td>Sunday</td>\n",
       "      <td>BLOOR DANFORTH SUBWAY</td>\n",
       "      <td>MUO</td>\n",
       "      <td>0</td>\n",
       "      <td>0</td>\n",
       "      <td>NaN</td>\n",
       "      <td>BD</td>\n",
       "      <td>0</td>\n",
       "    </tr>\n",
       "    <tr>\n",
       "      <th>215598</th>\n",
       "      <td>2017-04-30</td>\n",
       "      <td>20:25</td>\n",
       "      <td>Sunday</td>\n",
       "      <td>WARDEN STATION</td>\n",
       "      <td>SUDP</td>\n",
       "      <td>4</td>\n",
       "      <td>8</td>\n",
       "      <td>W</td>\n",
       "      <td>BD</td>\n",
       "      <td>5107</td>\n",
       "    </tr>\n",
       "    <tr>\n",
       "      <th>215599</th>\n",
       "      <td>2017-04-30</td>\n",
       "      <td>20:29</td>\n",
       "      <td>Sunday</td>\n",
       "      <td>KEELE STATION</td>\n",
       "      <td>SUROB</td>\n",
       "      <td>0</td>\n",
       "      <td>0</td>\n",
       "      <td>NaN</td>\n",
       "      <td>BD</td>\n",
       "      <td>0</td>\n",
       "    </tr>\n",
       "    <tr>\n",
       "      <th>215600</th>\n",
       "      <td>2017-04-30</td>\n",
       "      <td>22:00</td>\n",
       "      <td>Sunday</td>\n",
       "      <td>YONGE UNIVERSITY LINE</td>\n",
       "      <td>MUO</td>\n",
       "      <td>0</td>\n",
       "      <td>0</td>\n",
       "      <td>NaN</td>\n",
       "      <td>YU/BD</td>\n",
       "      <td>0</td>\n",
       "    </tr>\n",
       "    <tr>\n",
       "      <th>215601</th>\n",
       "      <td>2017-04-30</td>\n",
       "      <td>22:13</td>\n",
       "      <td>Sunday</td>\n",
       "      <td>BLOOR DANFORTH SUBWAY</td>\n",
       "      <td>MUGD</td>\n",
       "      <td>0</td>\n",
       "      <td>0</td>\n",
       "      <td>NaN</td>\n",
       "      <td>BD</td>\n",
       "      <td>0</td>\n",
       "    </tr>\n",
       "  </tbody>\n",
       "</table>\n",
       "<p>215602 rows × 10 columns</p>\n",
       "</div>"
      ],
      "text/plain": [
       "             Date   Time     Day                Station   Code  Min Delay  \\\n",
       "0      2024-01-01  02:00  Monday       SHEPPARD STATION    MUI          0   \n",
       "1      2024-01-01  02:00  Monday         DUNDAS STATION   MUIS          0   \n",
       "2      2024-01-01  02:08  Monday         DUNDAS STATION  MUPAA          4   \n",
       "3      2024-01-01  02:13  Monday     KENNEDY BD STATION  PUTDN         10   \n",
       "4      2024-01-01  02:22  Monday          BLOOR STATION  MUPAA          4   \n",
       "...           ...    ...     ...                    ...    ...        ...   \n",
       "215597 2017-04-30  19:50  Sunday  BLOOR DANFORTH SUBWAY    MUO          0   \n",
       "215598 2017-04-30  20:25  Sunday         WARDEN STATION   SUDP          4   \n",
       "215599 2017-04-30  20:29  Sunday          KEELE STATION  SUROB          0   \n",
       "215600 2017-04-30  22:00  Sunday  YONGE UNIVERSITY LINE    MUO          0   \n",
       "215601 2017-04-30  22:13  Sunday  BLOOR DANFORTH SUBWAY   MUGD          0   \n",
       "\n",
       "        Min Gap Bound   Line  Vehicle  \n",
       "0             0     N     YU     5491  \n",
       "1             0     N     YU        0  \n",
       "2            10     N     YU     6051  \n",
       "3            16     E     BD     5284  \n",
       "4            10     N     YU     5986  \n",
       "...         ...   ...    ...      ...  \n",
       "215597        0   NaN     BD        0  \n",
       "215598        8     W     BD     5107  \n",
       "215599        0   NaN     BD        0  \n",
       "215600        0   NaN  YU/BD        0  \n",
       "215601        0   NaN     BD        0  \n",
       "\n",
       "[215602 rows x 10 columns]"
      ]
     },
     "execution_count": 4,
     "metadata": {},
     "output_type": "execute_result"
    }
   ],
   "source": [
    "df_master"
   ]
  },
  {
   "cell_type": "markdown",
   "metadata": {
    "id": "7RkEOL8dpUXV"
   },
   "source": [
    "We'll be working with 215,602 rows of data recorded from January 2014 to September 30, 2024. We have ten (10) attributes:\n",
    "\n",
    "1) Date - in YYYY/MM/DD;\n",
    "\n",
    "2) Time - in 24H clock;\n",
    "\n",
    "3) Day - name of the day of the week;\n",
    "\n",
    "4) Station - TTC subway station name;\n",
    "\n",
    "5) Code - TTC delay code;\n",
    "\n",
    "6) Min Delay - delay (in minutes) to subway service;\n",
    "\n",
    "7) Min Gap - time length (in minutes) between trains;\n",
    "\n",
    "8) Bound - direction of the train dependend on the line;\n",
    "\n",
    "9) Line - TTC subway line, i.e. YU, BD, SHP, and SRT; and\n",
    "\n",
    "10) Vehicle - TTC train number."
   ]
  },
  {
   "cell_type": "markdown",
   "metadata": {
    "id": "atOjJkx_rufn"
   },
   "source": [
    "# **DATA CLEANING**\n",
    "\n",
    "---\n",
    "\n",
    "Here we remove duplicates, leading and trailing spaces, and try to fill null values or remove them if otherwise.\n"
   ]
  },
  {
   "cell_type": "markdown",
   "metadata": {
    "id": "dw1rGV5TrYhh"
   },
   "source": [
    "## Duplicates"
   ]
  },
  {
   "cell_type": "code",
   "execution_count": 5,
   "metadata": {
    "colab": {
     "base_uri": "https://localhost:8080/"
    },
    "id": "S2Wp8CtPraeM",
    "outputId": "bd6ec52f-6c3c-40d0-cab7-5e5d085cdb3e"
   },
   "outputs": [
    {
     "data": {
      "text/plain": [
       "194"
      ]
     },
     "execution_count": 5,
     "metadata": {},
     "output_type": "execute_result"
    }
   ],
   "source": [
    "df_master.duplicated().sum()"
   ]
  },
  {
   "cell_type": "code",
   "execution_count": 6,
   "metadata": {
    "colab": {
     "base_uri": "https://localhost:8080/"
    },
    "id": "DfKWpk_prdeg",
    "outputId": "73c64da5-fe94-4de1-a4d5-728ca32dac04"
   },
   "outputs": [
    {
     "data": {
      "text/plain": [
       "(215408, 10)"
      ]
     },
     "execution_count": 6,
     "metadata": {},
     "output_type": "execute_result"
    }
   ],
   "source": [
    "df_master.drop_duplicates(inplace = True)\n",
    "df_master.shape"
   ]
  },
  {
   "cell_type": "markdown",
   "metadata": {
    "id": "o02j3KLw8gb3"
   },
   "source": [
    "## Leading and Trailing Spaces"
   ]
  },
  {
   "cell_type": "markdown",
   "metadata": {
    "id": "Q4oI02Wq6oaf"
   },
   "source": [
    "Let's drop leading and trailing spaces in our data."
   ]
  },
  {
   "cell_type": "code",
   "execution_count": 7,
   "metadata": {
    "id": "ofWDyAH96rIu"
   },
   "outputs": [],
   "source": [
    "for col in df_master.select_dtypes(include = ['object']):\n",
    "  df_master[col] = df_master[col].str.strip()"
   ]
  },
  {
   "cell_type": "markdown",
   "metadata": {
    "id": "NRSDaW2s8mJR"
   },
   "source": [
    "## Null Values"
   ]
  },
  {
   "cell_type": "markdown",
   "metadata": {
    "id": "tOxAr4aZrzgE"
   },
   "source": [
    "Let's check for any null values."
   ]
  },
  {
   "cell_type": "code",
   "execution_count": 8,
   "metadata": {
    "colab": {
     "base_uri": "https://localhost:8080/",
     "height": 393
    },
    "id": "Nj7NBjEdpk4U",
    "outputId": "952ab1d2-ebf9-40f8-f531-4c3fef09662f"
   },
   "outputs": [
    {
     "data": {
      "text/plain": [
       "Date             0\n",
       "Time             0\n",
       "Day              0\n",
       "Station          0\n",
       "Code             1\n",
       "Min Delay        0\n",
       "Min Gap          0\n",
       "Bound        55483\n",
       "Line           683\n",
       "Vehicle          0\n",
       "dtype: int64"
      ]
     },
     "execution_count": 8,
     "metadata": {},
     "output_type": "execute_result"
    }
   ],
   "source": [
    "df_master.isnull().sum()"
   ]
  },
  {
   "cell_type": "markdown",
   "metadata": {
    "id": "xmXmJNJY8sC6"
   },
   "source": [
    "### 'Code' Column\n",
    "\n",
    "The 'Code' column has one (1)."
   ]
  },
  {
   "cell_type": "code",
   "execution_count": 9,
   "metadata": {
    "colab": {
     "base_uri": "https://localhost:8080/"
    },
    "id": "EgiNistdn0by",
    "outputId": "b7a0e15b-f91e-4ab2-c14b-f8fdc9ac2f7c"
   },
   "outputs": [
    {
     "name": "stdout",
     "output_type": "stream",
     "text": [
      "             Date   Time     Day          Station Code  Min Delay  Min Gap  \\\n",
      "137145 2017-07-07  06:09  Friday  COXWELL STATION  NaN          0        0   \n",
      "\n",
      "       Bound Line  Vehicle  \n",
      "137145     E   BD     5124  \n"
     ]
    }
   ],
   "source": [
    "print(df_master[df_master['Code'].isnull()])"
   ]
  },
  {
   "cell_type": "markdown",
   "metadata": {
    "id": "cSLPy5X7oHTo"
   },
   "source": [
    "It's a delay occurrence in Coxwell Station that lasted less than a minute. To remedy this, we drop the row with the null value."
   ]
  },
  {
   "cell_type": "code",
   "execution_count": 10,
   "metadata": {
    "id": "jFtrB6aJo83S"
   },
   "outputs": [],
   "source": [
    "df_master = df_master.dropna(subset=['Code'])"
   ]
  },
  {
   "cell_type": "markdown",
   "metadata": {
    "id": "kbKpAvLmn119"
   },
   "source": [
    "### 'Bound' Column\n",
    "\n",
    "The 'Bound' column has 55,588 null entries.\n",
    "\n",
    "The 'Bound' column records the direction the train was heading to when the delay occurred. Looking into a snapshot of the dataframe with the null entries in the 'Bound' column, we can see that we still have the other data in the other columns such as Date, Time, Station, and Min Gap. These are more important compared to the data on the direction of the train, at least relative to the purpose of this project.\n",
    "\n",
    "As such, we will not be removing the rows with null entries in the 'Bound' column."
   ]
  },
  {
   "cell_type": "markdown",
   "metadata": {
    "id": "JtuhXo2xtiMO"
   },
   "source": [
    "### 'Line' Column\n",
    "\n",
    "\n",
    "The 'Line' column has 683 null entries.\n",
    "\n",
    "The 'Line' column contains data on which TTC line the delay occurred. As of writing, there are/were officially four (4) TTC subway lines: Line 1 Yonge-University, Line 2 Bloor-Danforth, Line 3 Scarborough, and Line 4 Sheppard. Line 3 Scarborough was closed in July 2023."
   ]
  },
  {
   "cell_type": "code",
   "execution_count": 11,
   "metadata": {
    "colab": {
     "base_uri": "https://localhost:8080/"
    },
    "id": "rQEZcxG0rltW",
    "outputId": "543afda1-d729-4516-e27d-03e06e91575b"
   },
   "outputs": [
    {
     "name": "stdout",
     "output_type": "stream",
     "text": [
      "             Date   Time        Day                Station   Code  Min Delay  \\\n",
      "2257   2024-01-31  01:41  Wednesday        SPADINA STATION   MUIS          0   \n",
      "2498   2024-02-04  00:08     Sunday    SPADINA YUS STATION   MUIS          0   \n",
      "3413   2024-02-16  22:01     Friday          GUNN BUILDING   PUMO          0   \n",
      "3687   2024-02-20  22:13    Tuesday          QUEEN STATION    SUO          0   \n",
      "7095   2024-04-07  01:11     Sunday       UNKNOWN LOCATION    MUO          0   \n",
      "...           ...    ...        ...                    ...    ...        ...   \n",
      "213229 2017-03-14  14:14    Tuesday          GUNN BUILDING   MUIE          0   \n",
      "213456 2017-03-18  15:58   Saturday     KENNEDY BD STATION  MUIRS          0   \n",
      "213511 2017-03-20  00:21     Monday           JANE STATION  PUMEL          0   \n",
      "214820 2017-04-15  05:35   Saturday          QUEEN STATION  MUNCA          0   \n",
      "214894 2017-04-16  16:01     Sunday  ST GEORGE YUS STATION   MUIS          0   \n",
      "\n",
      "        Min Gap Bound Line  Vehicle  \n",
      "2257          0   NaN  NaN     3755  \n",
      "2498          0   NaN  NaN        0  \n",
      "3413          0   NaN  NaN        0  \n",
      "3687          0     N  NaN        0  \n",
      "7095          0   NaN  NaN        0  \n",
      "...         ...   ...  ...      ...  \n",
      "213229        0   NaN  NaN        0  \n",
      "213456        0   NaN  NaN        0  \n",
      "213511        0   NaN  NaN     1014  \n",
      "214820        0   NaN  NaN        0  \n",
      "214894        0   NaN  NaN        0  \n",
      "\n",
      "[683 rows x 10 columns]\n"
     ]
    }
   ],
   "source": [
    "print(df_master[df_master['Line'].isnull()])"
   ]
  },
  {
   "cell_type": "markdown",
   "metadata": {
    "id": "8Utz0TnSuAiB"
   },
   "source": [
    "Upon checking the rows above with null entries in the 'Line' column, we can see that we can interpolate from the 'Station' column the TTC line in which the delay occurred.\n",
    "\n",
    "Our data cleaning won't be as straightforward as it seems...\n",
    "\n",
    "Let's look at the 'Station' column more closely."
   ]
  },
  {
   "cell_type": "markdown",
   "metadata": {
    "id": "mYdCf8CE-lCk"
   },
   "source": [
    "### 'Station' Column\n",
    "\n",
    "There are 1,279 unique data entries under the 'Station' column. This poses a huge challenge in our data cleaning efforts. Certain stations appear in different forms, for instance: 'Vaughan MC to Finch St', 'Vaughan MC Station', Vaughan MC Station to', etc."
   ]
  },
  {
   "cell_type": "code",
   "execution_count": 12,
   "metadata": {
    "colab": {
     "base_uri": "https://localhost:8080/"
    },
    "id": "Cm1yPkbE47_C",
    "outputId": "7e39236d-5aac-45ad-f7e6-61657a09f2d2"
   },
   "outputs": [
    {
     "name": "stdout",
     "output_type": "stream",
     "text": [
      "1279\n"
     ]
    }
   ],
   "source": [
    "print(len(df_master['Station'].unique()))"
   ]
  },
  {
   "cell_type": "markdown",
   "metadata": {
    "id": "NI3wx6Ja5M1l"
   },
   "source": [
    "Here we run in a notable issue within the TTC Delay Dataset: it's not very precise.\n",
    "For instance, 'Vaughan MC to Finch St' may mean the delay occurred somewhere between Vaughan Metropolitan Centre Station to Finch Station. If we check the TTC subway map, however, we can see that there are 32 stations between the former and the latter. So how do we know for certain in which station this delay occurred?\n",
    "\n",
    "To simplify things, we'll assume that the first station name that appeared in the 'Station' column is the station in which the delay occurred, regardless whether the actual delay happened in between stations, i.e. while the train is running between stations.\n"
   ]
  },
  {
   "cell_type": "code",
   "execution_count": 13,
   "metadata": {
    "colab": {
     "base_uri": "https://localhost:8080/"
    },
    "id": "kpVUaAD78I4M",
    "outputId": "c8465372-0237-42aa-ed51-2026048153a9"
   },
   "outputs": [
    {
     "data": {
      "text/plain": [
       "array(['SHEPPARD STATION', 'DUNDAS STATION', 'KENNEDY BD STATION', ...,\n",
       "       'MOORE GATE', 'PLANT OPS BLDG', 'BLOOR YONGE LINES'], dtype=object)"
      ]
     },
     "execution_count": 13,
     "metadata": {},
     "output_type": "execute_result"
    }
   ],
   "source": [
    "df_master_unique = df_master['Station'].unique()\n",
    "df_master_unique"
   ]
  },
  {
   "cell_type": "code",
   "execution_count": 14,
   "metadata": {
    "colab": {
     "base_uri": "https://localhost:8080/",
     "height": 419
    },
    "id": "8QP58pjUnzzQ",
    "outputId": "1f05cd3b-d7f6-4044-8982-1c01ee198418"
   },
   "outputs": [
    {
     "data": {
      "text/html": [
       "<div>\n",
       "<style scoped>\n",
       "    .dataframe tbody tr th:only-of-type {\n",
       "        vertical-align: middle;\n",
       "    }\n",
       "\n",
       "    .dataframe tbody tr th {\n",
       "        vertical-align: top;\n",
       "    }\n",
       "\n",
       "    .dataframe thead th {\n",
       "        text-align: right;\n",
       "    }\n",
       "</style>\n",
       "<table border=\"1\" class=\"dataframe\">\n",
       "  <thead>\n",
       "    <tr style=\"text-align: right;\">\n",
       "      <th></th>\n",
       "      <th>Station</th>\n",
       "    </tr>\n",
       "  </thead>\n",
       "  <tbody>\n",
       "    <tr>\n",
       "      <th>0</th>\n",
       "      <td>SHEPPARD STATION</td>\n",
       "    </tr>\n",
       "    <tr>\n",
       "      <th>1</th>\n",
       "      <td>DUNDAS STATION</td>\n",
       "    </tr>\n",
       "    <tr>\n",
       "      <th>2</th>\n",
       "      <td>KENNEDY BD STATION</td>\n",
       "    </tr>\n",
       "    <tr>\n",
       "      <th>3</th>\n",
       "      <td>BLOOR STATION</td>\n",
       "    </tr>\n",
       "    <tr>\n",
       "      <th>4</th>\n",
       "      <td>ST CLAIR STATION</td>\n",
       "    </tr>\n",
       "    <tr>\n",
       "      <th>...</th>\n",
       "      <td>...</td>\n",
       "    </tr>\n",
       "    <tr>\n",
       "      <th>1274</th>\n",
       "      <td>CLANTON PARK EMERGENCY</td>\n",
       "    </tr>\n",
       "    <tr>\n",
       "      <th>1275</th>\n",
       "      <td>PRINCE EDWARD VIADUCT</td>\n",
       "    </tr>\n",
       "    <tr>\n",
       "      <th>1276</th>\n",
       "      <td>MOORE GATE</td>\n",
       "    </tr>\n",
       "    <tr>\n",
       "      <th>1277</th>\n",
       "      <td>PLANT OPS BLDG</td>\n",
       "    </tr>\n",
       "    <tr>\n",
       "      <th>1278</th>\n",
       "      <td>BLOOR YONGE LINES</td>\n",
       "    </tr>\n",
       "  </tbody>\n",
       "</table>\n",
       "<p>1279 rows × 1 columns</p>\n",
       "</div>"
      ],
      "text/plain": [
       "                     Station\n",
       "0           SHEPPARD STATION\n",
       "1             DUNDAS STATION\n",
       "2         KENNEDY BD STATION\n",
       "3              BLOOR STATION\n",
       "4           ST CLAIR STATION\n",
       "...                      ...\n",
       "1274  CLANTON PARK EMERGENCY\n",
       "1275   PRINCE EDWARD VIADUCT\n",
       "1276              MOORE GATE\n",
       "1277          PLANT OPS BLDG\n",
       "1278       BLOOR YONGE LINES\n",
       "\n",
       "[1279 rows x 1 columns]"
      ]
     },
     "execution_count": 14,
     "metadata": {},
     "output_type": "execute_result"
    }
   ],
   "source": [
    "df_master_unique = pd.DataFrame(df_master_unique, columns = ['Station'])\n",
    "df_master_unique"
   ]
  },
  {
   "cell_type": "markdown",
   "metadata": {
    "id": "5An5pJ7IsRpa"
   },
   "source": [
    "We'll do our data cleaning step-by-step.\n",
    "\n",
    "First, we'll create a dictionary of all the stations as keys and their related values. We need to refine the values to make sure that we're capturing all the unique names, even the ones with typographical errors. At the same time, we should ensure that we're not assigning a station to the wrong one. For instance, in the above example, 'Vaughan MC to Finch St' should be tagged to Vaughan Metropolitan Center Station and not to Finch Station."
   ]
  },
  {
   "cell_type": "code",
   "execution_count": 15,
   "metadata": {
    "id": "5owRNekSJKGX"
   },
   "outputs": [],
   "source": [
    "line_1 = {\n",
    "    'Vaughan Metropolitan Centre' : ['vau', 'vmc', '3150 Hwy 7'],\n",
    "    'Highway' : ['highway', 'high way', '7332 Jane St'],\n",
    "    'Pioneer Village' : ['pio', 'pioneer_village', '185 Northwest Gt'],\n",
    "    'York University' : ['york uni', 'york_university', '120 Ian Macdonald Blvd'],\n",
    "    'Finch West' : ['finch west', 'finch_west', '3950 Keele St'],\n",
    "    'Downsview Park' : ['downsview', 'down', 'downsview_park', '25 Vitti St'],\n",
    "    'Sheppard West' : ['sheppard west', 'sheppard_west', '1035 Sheppard Ave W'],\n",
    "    'Wilson' : ['wils', 'wisl', '570 Wilson Ave'],\n",
    "    'Yorkdale' : ['yorkdale', '50 Yorkdale Rd'],\n",
    "    'Lawrence West' : ['lawrence west', 'lawrence_west', '665 Lawrence Ave W'],\n",
    "    'Glencairn' : ['glen', '785 Glencairn Ave'],\n",
    "    'Eglinton West' : ['eglinton west', 'eglinton_west', '1300 Eglinton Ave W'],\n",
    "    'St. Clair West' : ['st clair west', 'st. clair west', 'st_clair_west', '370 St Clair Ave W'],\n",
    "    'Dupont' : ['dupont', '263 Dupont St'],\n",
    "    'Museum' : ['museum', '75 Queen\\'s Park'],\n",
    "    'Queens Park' : ['queens park', 'queens_park', '671 University Ave'],\n",
    "    'St. Patrick' : ['st patr', 'st. patr', 'stpatr', 'st_patrick', '449 University Ave'],\n",
    "    'Osgoode' : ['osgoode', '181 Queen St W'],\n",
    "    'St. Andrew' : ['st and', 'st. and', 'standr', 'st_andrew', '173 King St W'],\n",
    "    'Union' : ['union', '55 Front St W'],\n",
    "    'King' : ['king', '3 King St E'],\n",
    "    'Queen' : ['queen', '3 Queen St E'],\n",
    "    'Dundas' : ['dund', '3 Dundas St E'],\n",
    "    'College' : ['college', '3 Carlton St'],\n",
    "    'Wellesley' : ['welles', 'welle', 'wells', '16 Wellesley St E'],\n",
    "    'Rosedale' : ['rosedale', '7 Crescent Rd'],\n",
    "    'Summerhill' : ['summe', '16 Shaftesbury Ave'],\n",
    "    'St. Clair' : ['st clair', 'st. cla', 'stcla', 'st.cla', 'st cal', 'st_clair', '15 St Clair Ave E'],\n",
    "    'Davisville' : ['davis', '1900 Yonge St'],\n",
    "    'Eglinton' : ['eglinton', 'egi', '2190 Yonge St'],\n",
    "    'Lawrence' : ['lawr', 'lawer', '3101 Yonge St'],\n",
    "    'York Mills' : ['york mills', 'york_mills', '4025 Yonge St'],\n",
    "    'North York Centre' : ['north york', 'north_york_centre', '5152 Yonge St'],\n",
    "    'Finch' : ['finch', 'ficn', '5714 Yonge St']}\n",
    "\n",
    "line_2 = {\n",
    "    'Kipling' : ['kipl', 'kilp', '950 Kipling Ave'],\n",
    "    'Islington' : ['isli', '1240 Islington Ave'],\n",
    "    'Royal York' : ['royal york', 'royal_york', '955 Royal York Rd'],\n",
    "    'Old Mill' : ['old mill', 'old_mill', '2672 Bloor St W'],\n",
    "    'Jane' : ['jane', '15 Jane St'],\n",
    "    'Runnymede' : ['runnymede', '265 Runnymede Rd'],\n",
    "    'High Park' : ['high park', 'high_park', '35 Quebec Ave'],\n",
    "    'Keele' : ['keele', '21 Keele St'],\n",
    "    'Dundas West' : ['dundas west', 'dunda we', 'dundas_west', '2365 Dundas St W'],\n",
    "    'Lansdowne' : ['lansdowne', '691 Lansdowne Ave'],\n",
    "    'Dufferin' : ['dufferin', '1006 Dufferin St'],\n",
    "    'Ossington' : ['ossing', 'ossig', '746 Ossington Ave'],\n",
    "    'Christie' : ['christie', '5 Christie St'],\n",
    "    'Bathurst' : ['bathu', '819 Bathurst St'],\n",
    "    'Bay' : ['bay', '1234 Bay St'],\n",
    "    'Sherbourne' : ['sherbourne', '633 Sherbourne St'],\n",
    "    'Castle Frank' : ['castle frank', 'castle_frank', '600 Bloor St E'],\n",
    "    'Broadview' : ['broadview', 'braod', 'broad', 'brod', '769 Broadview Ave'],\n",
    "    'Chester' : ['chester', '22 Chester Ave'],\n",
    "    'Pape' : ['pape', '743 Pape Ave'],\n",
    "    'Donlands' : ['donlands', '30 Donlands Ave'],\n",
    "    'Greenwood' : ['greenwood', '10 Linnsmore Cres'],\n",
    "    'Coxwell' : ['coxwell', 'cox', '355 Strathmore Blvd'],\n",
    "    'Woodbine' : ['woodbine', '991 Woodbine Ave'],\n",
    "    'Main Street' : ['main street', 'main_street', '315 Main St'],\n",
    "    'Victoria Park' : ['victoria park', 'victoria_park', '777 Victoria Park Ave'],\n",
    "    'Warden' : ['warden', '701 Warden Ave']}\n",
    "\n",
    "line_3 = {\n",
    "    'Lawrence East:' : ['lawrence east', 'lawrence_east', '2444 Lawrence Ave E'],\n",
    "    'Ellesmere' : ['ellesmere', '1025 Ellesmere Rd'],\n",
    "    'Midland' : ['midland', '2085 Midland Ave'],\n",
    "    'Scarborough Centre' : ['scarb', 'scarborough_centre', '290 Borough Dr'],\n",
    "    'Mccowan' : ['mcco', 'mc co', '1275 McCowan Rd']}\n",
    "\n",
    "line_4 = {\n",
    "    'Bayview' : ['bayview', '550 Sheppard Ave E'],\n",
    "    'Bessarion' : ['bess', '731 Sheppard Ave E'],\n",
    "    'Leslie' : ['leslie', '1209 Sheppard Ave E'],\n",
    "    'Don Mills' : ['don m', 'donmi', 'don_mills', '1700 Sheppard Ave E']}\n",
    "\n",
    "line_1_4 = {\n",
    "    'Sheppard-Yonge' : ['sheppard', 'sheppard yonge', 'yonge shep', 'sehp', 'yonge shp', 'sheppard-yonge', '20 Sheppard Ave W']}\n",
    "\n",
    "line_1_2 = {\n",
    "    'Spadina' : ['spadina', '6 Spadina Rd'],\n",
    "    'St. George' : ['st geo', 'stgeo', 'st. geo', 'st.geo', 'st_george', '139 St George St'],\n",
    "    'Bloor-Yonge' : ['bloor', 'bloor-yonge', 'yonge', 'young', 'yu', 'danf', '35 Bloor St E',\n",
    "                     'yonge bd', 'yonge-uni', 'yonge - uni', 'yonge / uni',\n",
    "                     'yonge- uni', 'yonge uni', 'yonge/uni', 'yonge/u', 'yonge station',\n",
    "                     'line 1 - yonge', 'line 1: yonge', 'subway line 1', 'yonge u']}\n",
    "\n",
    "line_2_3 = {\n",
    "    'Kennedy' : ['kenn', '2455 Eglinton Ave E']}"
   ]
  },
  {
   "cell_type": "markdown",
   "metadata": {
    "id": "GbnQfB45Q24H"
   },
   "source": [
    "We'll need to run all the unique names in the 'station' column through our dictionary above. If any of the keywords match with the station name, the function below will return the \"cleaned\" station name in a newly created 'station_clean' column within the df_master dataframe."
   ]
  },
  {
   "cell_type": "code",
   "execution_count": 16,
   "metadata": {
    "id": "cv3GzVAaJKId"
   },
   "outputs": [
    {
     "name": "stderr",
     "output_type": "stream",
     "text": [
      "/var/folders/0w/36fvl5tn3b71hvbn68mbwpkm0000gn/T/ipykernel_3198/2826245562.py:8: SettingWithCopyWarning: \n",
      "A value is trying to be set on a copy of a slice from a DataFrame.\n",
      "Try using .loc[row_indexer,col_indexer] = value instead\n",
      "\n",
      "See the caveats in the documentation: https://pandas.pydata.org/pandas-docs/stable/user_guide/indexing.html#returning-a-view-versus-a-copy\n",
      "  df_master['station_clean'] = df_master['Station'].apply(clean_station_column)\n"
     ]
    }
   ],
   "source": [
    "def clean_station_column(station):\n",
    "    all_lines = {**line_1, **line_2, **line_3, **line_4, **line_1_2, **line_1_4, **line_2_3}\n",
    "    for correct_station, values in all_lines.items():\n",
    "      if any(value in station.lower() for value in values):\n",
    "        return correct_station\n",
    "    return \"Other\"\n",
    "\n",
    "df_master['station_clean'] = df_master['Station'].apply(clean_station_column)"
   ]
  },
  {
   "cell_type": "markdown",
   "metadata": {
    "id": "4JHEl6JDsVTc"
   },
   "source": [
    "Second, from checking the unique values in 'Station', we can see that some data are correct in terms of spelling. There's only slight differences like punctuation (some have a period), abbreviated (e.g. VMC, VAUGHAN MC), or dialect (e.g. centre instead of center). We'll assign these to the new column 'station_clean'.\n",
    "\n",
    "Though we already ran these through our dictionary, we'll run it again through this \"hard\" assignment to make sure we're assigning the stations correctly."
   ]
  },
  {
   "cell_type": "code",
   "execution_count": 17,
   "metadata": {
    "id": "pLgEdqXOq9n8"
   },
   "outputs": [],
   "source": [
    "# force correct stations Line 1\n",
    "df_master.loc[df_master['Station'] == 'VAUGHAN MC STATION', 'station_clean'] = 'Vaughan Metropolitan Centre'\n",
    "df_master.loc[df_master['Station'] == 'HIGHWAY 407 STATION', 'station_clean'] = 'Highway'\n",
    "df_master.loc[df_master['Station'] == 'PIONEER VILLAGE STATION', 'station_clean'] = 'Pioneer Village'\n",
    "df_master.loc[df_master['Station'] == 'YORK UNIVERSITY STATION', 'station_clean'] = 'York University'\n",
    "df_master.loc[df_master['Station'] == 'FINCH WEST STATION', 'station_clean'] = 'Finch West'\n",
    "df_master.loc[df_master['Station'] == 'DOWNSVIEW PARK STATION', 'station_clean'] = 'Downsview Park'\n",
    "df_master.loc[df_master['Station'] == 'SHEPPARD WEST STATION', 'station_clean'] = 'Sheppard West'\n",
    "df_master.loc[df_master['Station'] == 'WILSON STATION', 'station_clean'] = 'Wilson'\n",
    "df_master.loc[df_master['Station'] == 'YORKDALE STATION', 'station_clean'] = 'Yorkdale'\n",
    "df_master.loc[df_master['Station'] == 'LAWRENCE WEST STATION', 'station_clean'] = 'Lawrence West'\n",
    "df_master.loc[df_master['Station'] == 'GLENCAIRN STATION', 'station_clean'] = 'Glencairn'\n",
    "df_master.loc[df_master['Station'] == 'EGLINTON WEST STATION', 'station_clean'] = 'Eglinton West'\n",
    "df_master.loc[df_master['Station'] == 'ST CLAIR WEST STATION', 'station_clean'] = 'St. Clair West'\n",
    "df_master.loc[df_master['Station'] == 'DUPONT STATION', 'station_clean'] = 'Dupont'\n",
    "df_master.loc[df_master['Station'] == 'MUSEUM STATION', 'station_clean'] = 'Museum'\n",
    "df_master.loc[df_master['Station'] == 'QUEENS PARK STATION', 'station_clean'] = 'Queens Park'\n",
    "df_master.loc[df_master['Station'] == 'ST PATRICK STATION', 'station_clean'] = 'St. Patrick'\n",
    "df_master.loc[df_master['Station'] == 'OSGOODE STATION', 'station_clean'] = 'Osgoode'\n",
    "df_master.loc[df_master['Station'] == 'ST ANDREW STATION', 'station_clean'] = 'St. Andrew'\n",
    "df_master.loc[df_master['Station'] == 'UNION STATION', 'station_clean'] = 'Union'\n",
    "df_master.loc[df_master['Station'] == 'KING STATION', 'station_clean'] = 'King'\n",
    "df_master.loc[df_master['Station'] == 'QUEEN STATION', 'station_clean'] = 'Queen'\n",
    "df_master.loc[df_master['Station'] == 'DUNDAS STATION', 'station_clean'] = 'Dundas'\n",
    "df_master.loc[df_master['Station'] == 'COLLEGE STATION', 'station_clean'] = 'College'\n",
    "df_master.loc[df_master['Station'] == 'WELLESLEY STATION', 'station_clean'] = 'Wellesley'\n",
    "df_master.loc[df_master['Station'] == 'ROSEDALE STATION', 'station_clean'] = 'Rosedale'\n",
    "df_master.loc[df_master['Station'] == 'SUMMERHILL STATION', 'station_clean'] = 'Summerhill'\n",
    "df_master.loc[df_master['Station'] == 'ST CLAIR STATION', 'station_clean'] = 'St. Clair'\n",
    "df_master.loc[df_master['Station'] == 'DAVISVILLE STATION', 'station_clean'] = 'Davisville'\n",
    "df_master.loc[df_master['Station'] == 'EGLINTON STATION', 'station_clean'] = 'Eglinton'\n",
    "df_master.loc[df_master['Station'] == 'LAWRENCE STATION', 'station_clean'] = 'Lawrence'\n",
    "df_master.loc[df_master['Station'] == 'YORK MILLS STATION', 'station_clean'] = 'York Mills'\n",
    "df_master.loc[df_master['Station'] == 'NORTH YORK CTR STATION', 'station_clean'] = 'North York Centre'\n",
    "df_master.loc[df_master['Station'] == 'FINCH STATION', 'station_clean'] = 'Finch'\n",
    "\n",
    "# force correct stations Line 2\n",
    "df_master.loc[df_master['Station'] == 'KIPLING STATION', 'station_clean'] = 'Kipling'\n",
    "df_master.loc[df_master['Station'] == 'ISLINGTON STATION', 'station_clean'] = 'Islington'\n",
    "df_master.loc[df_master['Station'] == 'ROYAL YORK STATION', 'station_clean'] = 'Royal York'\n",
    "df_master.loc[df_master['Station'] == 'OLD MILL STATION', 'station_clean'] = 'Old Mill'\n",
    "df_master.loc[df_master['Station'] == 'JANE STATION', 'station_clean'] = 'Jane'\n",
    "df_master.loc[df_master['Station'] == 'RUNNYMEDE STATION', 'station_clean'] = 'Runnymede'\n",
    "df_master.loc[df_master['Station'] == 'HIGH PARK STATION', 'station_clean'] = 'High Park'\n",
    "df_master.loc[df_master['Station'] == 'KEELE STATION', 'station_clean'] = 'Keele'\n",
    "df_master.loc[df_master['Station'] == 'DUNDAS WEST STATION', 'station_clean'] = 'Dundas West'\n",
    "df_master.loc[df_master['Station'] == 'LANSDOWNE STATION', 'station_clean'] = 'Lansdowne'\n",
    "df_master.loc[df_master['Station'] == 'DUFFERIN STATION', 'station_clean'] = 'Dufferin'\n",
    "df_master.loc[df_master['Station'] == 'OSSINGTON STATION', 'station_clean'] = 'Ossington'\n",
    "df_master.loc[df_master['Station'] == 'CHRISTIE STATION', 'station_clean'] = 'Christie'\n",
    "df_master.loc[df_master['Station'] == 'BATHURST STATION', 'station_clean'] = 'Bathurst'\n",
    "df_master.loc[df_master['Station'] == 'BAY STATION', 'station_clean'] = 'Bay'\n",
    "df_master.loc[df_master['Station'] == 'SHERBOURNE STATION', 'station_clean'] = 'Sherbourne'\n",
    "df_master.loc[df_master['Station'] == 'CASTLE FRANK STATION', 'station_clean'] = 'Castle Frank'\n",
    "df_master.loc[df_master['Station'] == 'BROADVIEW STATION', 'station_clean'] = 'Broadview'\n",
    "df_master.loc[df_master['Station'] == 'CHESTER STATION', 'station_clean'] = 'Chester'\n",
    "df_master.loc[df_master['Station'] == 'PAPE STATION', 'station_clean'] = 'Pape'\n",
    "df_master.loc[df_master['Station'] == 'DONLANDS STATION', 'station_clean'] = 'Donlands'\n",
    "df_master.loc[df_master['Station'] == 'GREENWOOD STATION', 'station_clean'] = 'Greenwood'\n",
    "df_master.loc[df_master['Station'] == 'COXWELL STATION', 'station_clean'] = 'Coxwell'\n",
    "df_master.loc[df_master['Station'] == 'WOODBINE STATION', 'station_clean'] = 'Woodbine'\n",
    "df_master.loc[df_master['Station'] == 'MAIN STREET STATION', 'station_clean'] = 'Main Street'\n",
    "df_master.loc[df_master['Station'] == 'VICTORIA PARK STATION', 'station_clean'] = 'Victoria Park'\n",
    "df_master.loc[df_master['Station'] == 'WARDEN STATION', 'station_clean'] = 'Warden'\n",
    "\n",
    "# force correct stations Line 3\n",
    "df_master.loc[df_master['Station'] == 'LAWRENCE EAST STATION', 'station_clean'] = 'Lawrence East'\n",
    "df_master.loc[df_master['Station'] == 'ELLESMERE STATION', 'station_clean'] = 'Ellesmere'\n",
    "df_master.loc[df_master['Station'] == 'MIDLAND STATION', 'station_clean'] = 'Midland'\n",
    "df_master.loc[df_master['Station'] == 'SCARBOROUGH STATION', 'station_clean'] = 'Scarborough Centre'\n",
    "df_master.loc[df_master['Station'] == 'MCCOWAN STATION', 'station_clean'] = 'Mccowan'\n",
    "\n",
    "# force correct stations Line 4\n",
    "df_master.loc[df_master['Station'] == 'BAYVIEW STATION', 'station_clean'] = 'Bayview'\n",
    "df_master.loc[df_master['Station'] == 'BESSARION STATION', 'station_clean'] = 'Bessarion'\n",
    "df_master.loc[df_master['Station'] == 'LESLIE STATION', 'station_clean'] = 'Leslie'\n",
    "df_master.loc[df_master['Station'] == 'DON MILLS STATION', 'station_clean'] = 'Don Mills'\n",
    "\n",
    "# force correct stations Line_1_4\n",
    "df_master.loc[df_master['Station'] == 'SHEPPARD-YONGE STATION', 'station_clean'] = 'Sheppard-Yonge'\n",
    "\n",
    "# force correct stations Line_1_2\n",
    "df_master.loc[df_master['Station'] == 'SPADINA STATION', 'station_clean'] = 'Spadina'\n",
    "df_master.loc[df_master['Station'] == 'ST GEORGE STATION', 'station_clean'] = 'St. George'\n",
    "df_master.loc[df_master['Station'] == 'BLOOR-YONGE STATION', 'station_clean'] = 'Bloor-Yonge'\n",
    "\n",
    "# force correct stations Line_2_3\n",
    "df_master.loc[df_master['Station'] == 'KENNEDY BD STATION', 'station_clean'] = 'Kennedy'"
   ]
  },
  {
   "cell_type": "markdown",
   "metadata": {
    "id": "tX9HCYq4srQF"
   },
   "source": [
    "After all the data cleaning of the 'Station' column, we're left with 134 out of the 1,279 unique values that are too vague to correct."
   ]
  },
  {
   "cell_type": "code",
   "execution_count": 18,
   "metadata": {
    "colab": {
     "base_uri": "https://localhost:8080/"
    },
    "id": "hDhJHNomTsop",
    "outputId": "1d9564fc-bbe7-46e1-cb2f-e7a36eaa1d7e"
   },
   "outputs": [
    {
     "name": "stdout",
     "output_type": "stream",
     "text": [
      "['SUBWAY CLOSURE: WEEKEN' 'TORONTO TRANSIT COMMIS' 'UNKNOWN LOCATION'\n",
      " 'LINE 1 SUBWAY CLOSURE' 'MILL STREET EMERGENCY' 'GUNN BUILDING'\n",
      " 'LEONA EE' 'CHANGE OVERS LINE TWO' 'S/O TEDDINGTON TO S/O'\n",
      " 'MARKDALE EMERGENCY EXI' 'WILFRED EMERGENCY EXIT' 'HILLCREST COMPLEX'\n",
      " 'EARLY SUBWAY CLOSURE:' 'LINE 1' 'WEEKEND CLOSURE - WOOD' 'WILFRED EE'\n",
      " 'MULTIPLE STATIONS' 'VARIOUS LOCATIONS' 'RUSSEL HILL EE - INTRU'\n",
      " 'BUCHAN ESB' 'MARKDALE EEB' 'HILLCREST GATE' 'VARIOUS LOCATION'\n",
      " 'SUBWAY OPS BUILDING' 'WEEKEND CLOSURE SHEPPA' 'TORONTO TRANSIT CONTRO'\n",
      " 'SYSTEM WIDE' 'MCDONALD CARTIER EMERG' 'TRACK LEVEL ACTIVITY'\n",
      " 'SYSTEMWIDE' 'ASQUITH SUBSTATION' 'LOST ARTICLES OFFICE -'\n",
      " 'SUBWAY CLOSURE: WOODBI' 'SRT LINE' 'NORTH HOSTLER (LEAVING' 'LINE 4'\n",
      " 'MCBRIEN BUILDING' 'LINE 2 BD' 'LINE 3' 'ALLEN ROAD AND EGLINTO'\n",
      " '1 TIPPETT ROAD' 'MC BRIEN' 'SAFE APP' 'DUNCAN BUILDING' 'LYTTON EE'\n",
      " 'TRANSIT CONTROL' 'HILLCREST - SUBWAY OPE' 'SRT YARD' 'SRT LINE 3'\n",
      " 'LINE 2' 'BIRCHMOUNT EE' 'GUNN BUILDING - 2ND FL' 'CNE EAST LOOP'\n",
      " 'LINE 3 SRT' 'BIRCHMOUNT EMERGENCY E' 'GUNN THEATRE' 'WELLBECK EE'\n",
      " 'CLANTON PORTAL TO EGLI' 'GREEENWOOD YARD' 'LAKESHORE AND YORK'\n",
      " 'LINE 2 - BD' 'WEEKEND CLOSURE- ST AN' 'WEEKEND CLOSURE- ST GE'\n",
      " 'MAC DONALD CARTIER EE' 'MCBRIAN BUILDING' 'TORONTO TRANSIC COMMIS'\n",
      " 'TRANSIT CONTROL CENTRE' 'MAINLINE STORAGE' 'NORTH HOSTLER'\n",
      " 'GUNN BUILDING - 3RD FL' 'MIGRATION POINT EGLINT' 'ALL OPEN CUTS'\n",
      " 'EATON CENTRE' 'VIADUCT' 'MIGRATION POINT' 'STATION'\n",
      " 'SOUTH BOUND SOUTH OF L' 'SRT - LINE 3' 'BD LINE CHANGEOVERS'\n",
      " 'BICHMOUNT DIVISION' 'BEDFORD SUBSTATION' 'INGLIS BUILDING' 'ZONE 1'\n",
      " 'YOONGE-UNIVERSITY SUBW' 'SUBWAY OPERATIONS BUIL' 'LINE 1 AND LINE 2 AND'\n",
      " 'LINE 1, LINE 2 AND LIN' 'LYTTON EMERGENCY EXIT' 'CLOSURES BUILDING'\n",
      " 'ZONE 2' 'GO PROTOCOL' 'EASTBOUND - BETWEEN SH' 'CHANGE OVERS / GENERAL'\n",
      " 'INGLIS BUILDING - 3RD' 'HILLCREST - PAINT AND' 'ATC AREA'\n",
      " 'SUBWAY OPERATIONS BLDG' 'MARKDALE EE' 'PRINCE EDWARD SUBSTATI'\n",
      " 'LINE 2 (BD)' 'DUNCAN SHOP' 'WELLBECK EMERGENCY' 'GO PROTOCOL - BARRIE L'\n",
      " 'SYSTEM - WIDE IN THE O' '120 CARTWRIGHT AVE' 'ELLIS BRIDGE' 'E13'\n",
      " 'CHURCH EMERGENCY EXIT' 'MCBRIEN BUIDING' 'ALLEN RD (N OF EGLINTO'\n",
      " 'HARVEY SHOP' 'TYSSE LINE' 'OAKVALE SUBSTATION' 'DUNCAN SHOPS'\n",
      " 'ATC FAILURE' '40 CARL HALL ROAD UNIT' 'WELBECK EMERGENCY EXIT'\n",
      " 'YARD SWITCH - BD CHECK' 'ATC TERRITORY' 'FULL LINE' 'MC BRIEN BUILDING'\n",
      " 'ATC TERRIROTY' 'CLANTON PARK PORTAL' 'RONCEVALLES DIVISION'\n",
      " 'RUSSELL HILL EMERGENCY' 'FENMAR AND WESTON' 'DUPLEX AVENUE'\n",
      " '(APPROACHING)' 'DAVENPORT BUILDING' 'VARIOUS' 'CLANTON PARK EMERGENCY'\n",
      " 'PRINCE EDWARD VIADUCT' 'MOORE GATE' 'PLANT OPS BLDG']\n",
      "134\n"
     ]
    }
   ],
   "source": [
    "print(df_master[df_master['station_clean'] == 'Other']['Station'].unique())\n",
    "print(len(df_master[df_master['station_clean'] == 'Other']['Station'].unique()))"
   ]
  },
  {
   "cell_type": "code",
   "execution_count": 19,
   "metadata": {
    "colab": {
     "base_uri": "https://localhost:8080/"
    },
    "id": "P2czxSkLtBQ0",
    "outputId": "a5ff16dd-4d22-4f72-af87-2066f1af129b"
   },
   "outputs": [
    {
     "name": "stdout",
     "output_type": "stream",
     "text": [
      "946\n"
     ]
    }
   ],
   "source": [
    "print(len(df_master[df_master['station_clean'] == 'Other']))"
   ]
  },
  {
   "cell_type": "markdown",
   "metadata": {
    "id": "c-NI81KLad4x"
   },
   "source": [
    "We have 946 data entries affected by this. We have 946 rows of data whose station we cannot identify and has been tagged 'Other'. Upon closer look, the entries under 'Station' are not station names at all, but are specific places such as address, buildings, portals, and substations.\n",
    "\n",
    "Let's decide to drop these rows from our dataset."
   ]
  },
  {
   "cell_type": "code",
   "execution_count": 20,
   "metadata": {
    "colab": {
     "base_uri": "https://localhost:8080/"
    },
    "id": "zENFc-7RtQ1w",
    "outputId": "925edd06-50d8-4b78-b661-a50ba90e51dc"
   },
   "outputs": [
    {
     "data": {
      "text/plain": [
       "(214461, 11)"
      ]
     },
     "execution_count": 20,
     "metadata": {},
     "output_type": "execute_result"
    }
   ],
   "source": [
    "df_master = df_master[df_master['station_clean'] != 'Other']\n",
    "df_master.shape"
   ]
  },
  {
   "cell_type": "markdown",
   "metadata": {
    "id": "cfbrSOfz4NpD"
   },
   "source": [
    "Let's check if our function correctly assigned data with two (2) stations in their entry such as cited previously \"Vaughan MC to Finch We\"."
   ]
  },
  {
   "cell_type": "code",
   "execution_count": 21,
   "metadata": {
    "colab": {
     "base_uri": "https://localhost:8080/",
     "height": 80
    },
    "id": "Ox0BkxzpS8G7",
    "outputId": "468129dd-227d-47e0-ce61-88120e097809"
   },
   "outputs": [
    {
     "data": {
      "text/html": [
       "<div>\n",
       "<style scoped>\n",
       "    .dataframe tbody tr th:only-of-type {\n",
       "        vertical-align: middle;\n",
       "    }\n",
       "\n",
       "    .dataframe tbody tr th {\n",
       "        vertical-align: top;\n",
       "    }\n",
       "\n",
       "    .dataframe thead th {\n",
       "        text-align: right;\n",
       "    }\n",
       "</style>\n",
       "<table border=\"1\" class=\"dataframe\">\n",
       "  <thead>\n",
       "    <tr style=\"text-align: right;\">\n",
       "      <th></th>\n",
       "      <th>Date</th>\n",
       "      <th>Time</th>\n",
       "      <th>Day</th>\n",
       "      <th>Station</th>\n",
       "      <th>Code</th>\n",
       "      <th>Min Delay</th>\n",
       "      <th>Min Gap</th>\n",
       "      <th>Bound</th>\n",
       "      <th>Line</th>\n",
       "      <th>Vehicle</th>\n",
       "      <th>station_clean</th>\n",
       "    </tr>\n",
       "  </thead>\n",
       "  <tbody>\n",
       "    <tr>\n",
       "      <th>26702</th>\n",
       "      <td>2023-04-20</td>\n",
       "      <td>23:00</td>\n",
       "      <td>Thursday</td>\n",
       "      <td>VAUGHAN MC TO FINCH WE</td>\n",
       "      <td>MUO</td>\n",
       "      <td>0</td>\n",
       "      <td>0</td>\n",
       "      <td>NaN</td>\n",
       "      <td>YU</td>\n",
       "      <td>0</td>\n",
       "      <td>Vaughan Metropolitan Centre</td>\n",
       "    </tr>\n",
       "  </tbody>\n",
       "</table>\n",
       "</div>"
      ],
      "text/plain": [
       "            Date   Time       Day                 Station Code  Min Delay  \\\n",
       "26702 2023-04-20  23:00  Thursday  VAUGHAN MC TO FINCH WE  MUO          0   \n",
       "\n",
       "       Min Gap Bound Line  Vehicle                station_clean  \n",
       "26702        0   NaN   YU        0  Vaughan Metropolitan Centre  "
      ]
     },
     "execution_count": 21,
     "metadata": {},
     "output_type": "execute_result"
    }
   ],
   "source": [
    "df_master[df_master['Station'] == 'VAUGHAN MC TO FINCH WE']"
   ]
  },
  {
   "cell_type": "markdown",
   "metadata": {
    "id": "FzV3wY6V4cBm"
   },
   "source": [
    "Looks like our function did it correctly!"
   ]
  },
  {
   "cell_type": "markdown",
   "metadata": {
    "id": "JM21b3ml-rbH"
   },
   "source": [
    "**'Line' Column**"
   ]
  },
  {
   "cell_type": "markdown",
   "metadata": {
    "id": "Rr8C91GX7sRx"
   },
   "source": [
    "Now we'll go back to our 'Line' column and work on populating the null values given the data we have in the 'station_clean' column."
   ]
  },
  {
   "cell_type": "code",
   "execution_count": 22,
   "metadata": {
    "colab": {
     "base_uri": "https://localhost:8080/",
     "height": 419
    },
    "id": "9syfOFsKLZt9",
    "outputId": "af698137-a412-446d-f4dd-a18e421dca4f"
   },
   "outputs": [
    {
     "data": {
      "text/html": [
       "<div>\n",
       "<style scoped>\n",
       "    .dataframe tbody tr th:only-of-type {\n",
       "        vertical-align: middle;\n",
       "    }\n",
       "\n",
       "    .dataframe tbody tr th {\n",
       "        vertical-align: top;\n",
       "    }\n",
       "\n",
       "    .dataframe thead th {\n",
       "        text-align: right;\n",
       "    }\n",
       "</style>\n",
       "<table border=\"1\" class=\"dataframe\">\n",
       "  <thead>\n",
       "    <tr style=\"text-align: right;\">\n",
       "      <th></th>\n",
       "      <th>Date</th>\n",
       "      <th>Time</th>\n",
       "      <th>Day</th>\n",
       "      <th>Station</th>\n",
       "      <th>Code</th>\n",
       "      <th>Min Delay</th>\n",
       "      <th>Min Gap</th>\n",
       "      <th>Bound</th>\n",
       "      <th>Line</th>\n",
       "      <th>Vehicle</th>\n",
       "      <th>station_clean</th>\n",
       "    </tr>\n",
       "  </thead>\n",
       "  <tbody>\n",
       "    <tr>\n",
       "      <th>2257</th>\n",
       "      <td>2024-01-31</td>\n",
       "      <td>01:41</td>\n",
       "      <td>Wednesday</td>\n",
       "      <td>SPADINA STATION</td>\n",
       "      <td>MUIS</td>\n",
       "      <td>0</td>\n",
       "      <td>0</td>\n",
       "      <td>NaN</td>\n",
       "      <td>NaN</td>\n",
       "      <td>3755</td>\n",
       "      <td>Spadina</td>\n",
       "    </tr>\n",
       "    <tr>\n",
       "      <th>2498</th>\n",
       "      <td>2024-02-04</td>\n",
       "      <td>00:08</td>\n",
       "      <td>Sunday</td>\n",
       "      <td>SPADINA YUS STATION</td>\n",
       "      <td>MUIS</td>\n",
       "      <td>0</td>\n",
       "      <td>0</td>\n",
       "      <td>NaN</td>\n",
       "      <td>NaN</td>\n",
       "      <td>0</td>\n",
       "      <td>Spadina</td>\n",
       "    </tr>\n",
       "    <tr>\n",
       "      <th>3687</th>\n",
       "      <td>2024-02-20</td>\n",
       "      <td>22:13</td>\n",
       "      <td>Tuesday</td>\n",
       "      <td>QUEEN STATION</td>\n",
       "      <td>SUO</td>\n",
       "      <td>0</td>\n",
       "      <td>0</td>\n",
       "      <td>N</td>\n",
       "      <td>NaN</td>\n",
       "      <td>0</td>\n",
       "      <td>Queen</td>\n",
       "    </tr>\n",
       "    <tr>\n",
       "      <th>7253</th>\n",
       "      <td>2024-04-09</td>\n",
       "      <td>22:01</td>\n",
       "      <td>Tuesday</td>\n",
       "      <td>LESLIE STATION</td>\n",
       "      <td>MUO</td>\n",
       "      <td>0</td>\n",
       "      <td>0</td>\n",
       "      <td>NaN</td>\n",
       "      <td>NaN</td>\n",
       "      <td>0</td>\n",
       "      <td>Leslie</td>\n",
       "    </tr>\n",
       "    <tr>\n",
       "      <th>7438</th>\n",
       "      <td>2024-04-11</td>\n",
       "      <td>01:06</td>\n",
       "      <td>Thursday</td>\n",
       "      <td>SPADINA YUS STATION</td>\n",
       "      <td>MUIRS</td>\n",
       "      <td>0</td>\n",
       "      <td>0</td>\n",
       "      <td>NaN</td>\n",
       "      <td>NaN</td>\n",
       "      <td>0</td>\n",
       "      <td>Spadina</td>\n",
       "    </tr>\n",
       "    <tr>\n",
       "      <th>...</th>\n",
       "      <td>...</td>\n",
       "      <td>...</td>\n",
       "      <td>...</td>\n",
       "      <td>...</td>\n",
       "      <td>...</td>\n",
       "      <td>...</td>\n",
       "      <td>...</td>\n",
       "      <td>...</td>\n",
       "      <td>...</td>\n",
       "      <td>...</td>\n",
       "      <td>...</td>\n",
       "    </tr>\n",
       "    <tr>\n",
       "      <th>213034</th>\n",
       "      <td>2017-03-10</td>\n",
       "      <td>16:02</td>\n",
       "      <td>Friday</td>\n",
       "      <td>WILSON CARHOUSE</td>\n",
       "      <td>EUO</td>\n",
       "      <td>0</td>\n",
       "      <td>0</td>\n",
       "      <td>NaN</td>\n",
       "      <td>NaN</td>\n",
       "      <td>0</td>\n",
       "      <td>Wilson</td>\n",
       "    </tr>\n",
       "    <tr>\n",
       "      <th>213456</th>\n",
       "      <td>2017-03-18</td>\n",
       "      <td>15:58</td>\n",
       "      <td>Saturday</td>\n",
       "      <td>KENNEDY BD STATION</td>\n",
       "      <td>MUIRS</td>\n",
       "      <td>0</td>\n",
       "      <td>0</td>\n",
       "      <td>NaN</td>\n",
       "      <td>NaN</td>\n",
       "      <td>0</td>\n",
       "      <td>Kennedy</td>\n",
       "    </tr>\n",
       "    <tr>\n",
       "      <th>213511</th>\n",
       "      <td>2017-03-20</td>\n",
       "      <td>00:21</td>\n",
       "      <td>Monday</td>\n",
       "      <td>JANE STATION</td>\n",
       "      <td>PUMEL</td>\n",
       "      <td>0</td>\n",
       "      <td>0</td>\n",
       "      <td>NaN</td>\n",
       "      <td>NaN</td>\n",
       "      <td>1014</td>\n",
       "      <td>Jane</td>\n",
       "    </tr>\n",
       "    <tr>\n",
       "      <th>214820</th>\n",
       "      <td>2017-04-15</td>\n",
       "      <td>05:35</td>\n",
       "      <td>Saturday</td>\n",
       "      <td>QUEEN STATION</td>\n",
       "      <td>MUNCA</td>\n",
       "      <td>0</td>\n",
       "      <td>0</td>\n",
       "      <td>NaN</td>\n",
       "      <td>NaN</td>\n",
       "      <td>0</td>\n",
       "      <td>Queen</td>\n",
       "    </tr>\n",
       "    <tr>\n",
       "      <th>214894</th>\n",
       "      <td>2017-04-16</td>\n",
       "      <td>16:01</td>\n",
       "      <td>Sunday</td>\n",
       "      <td>ST GEORGE YUS STATION</td>\n",
       "      <td>MUIS</td>\n",
       "      <td>0</td>\n",
       "      <td>0</td>\n",
       "      <td>NaN</td>\n",
       "      <td>NaN</td>\n",
       "      <td>0</td>\n",
       "      <td>St. George</td>\n",
       "    </tr>\n",
       "  </tbody>\n",
       "</table>\n",
       "<p>606 rows × 11 columns</p>\n",
       "</div>"
      ],
      "text/plain": [
       "             Date   Time        Day                Station   Code  Min Delay  \\\n",
       "2257   2024-01-31  01:41  Wednesday        SPADINA STATION   MUIS          0   \n",
       "2498   2024-02-04  00:08     Sunday    SPADINA YUS STATION   MUIS          0   \n",
       "3687   2024-02-20  22:13    Tuesday          QUEEN STATION    SUO          0   \n",
       "7253   2024-04-09  22:01    Tuesday         LESLIE STATION    MUO          0   \n",
       "7438   2024-04-11  01:06   Thursday    SPADINA YUS STATION  MUIRS          0   \n",
       "...           ...    ...        ...                    ...    ...        ...   \n",
       "213034 2017-03-10  16:02     Friday        WILSON CARHOUSE    EUO          0   \n",
       "213456 2017-03-18  15:58   Saturday     KENNEDY BD STATION  MUIRS          0   \n",
       "213511 2017-03-20  00:21     Monday           JANE STATION  PUMEL          0   \n",
       "214820 2017-04-15  05:35   Saturday          QUEEN STATION  MUNCA          0   \n",
       "214894 2017-04-16  16:01     Sunday  ST GEORGE YUS STATION   MUIS          0   \n",
       "\n",
       "        Min Gap Bound Line  Vehicle station_clean  \n",
       "2257          0   NaN  NaN     3755       Spadina  \n",
       "2498          0   NaN  NaN        0       Spadina  \n",
       "3687          0     N  NaN        0         Queen  \n",
       "7253          0   NaN  NaN        0        Leslie  \n",
       "7438          0   NaN  NaN        0       Spadina  \n",
       "...         ...   ...  ...      ...           ...  \n",
       "213034        0   NaN  NaN        0        Wilson  \n",
       "213456        0   NaN  NaN        0       Kennedy  \n",
       "213511        0   NaN  NaN     1014          Jane  \n",
       "214820        0   NaN  NaN        0         Queen  \n",
       "214894        0   NaN  NaN        0    St. George  \n",
       "\n",
       "[606 rows x 11 columns]"
      ]
     },
     "execution_count": 22,
     "metadata": {},
     "output_type": "execute_result"
    }
   ],
   "source": [
    "df_master[df_master['Line'].isnull()]"
   ]
  },
  {
   "cell_type": "markdown",
   "metadata": {
    "id": "eCOLr53wCYfr"
   },
   "source": [
    "For rows with null entries in 'Line', we'll check their corresponding values in 'station_clean' and run that through the dictionary we created above. Notice how we assigned each station to its line in the dictionary? That will serve its purpose here in assigning the correct TTC line for each station.\n",
    "\n",
    "Lines 1 and 2 has a peculiar challenge in that they share two (2) common stations, in other words, there are three (3) stations where commuters can transfer from Line 1 to Line 2. These are Spadina Station, St. George Station, and Bloor-Yonge Station.\n",
    "\n",
    "Lines 1 and 4 also has one (1) in common : Sheppard-Yonge Station.\n",
    "\n",
    "We will not assign these common stations into each of the lines and instead categorized them into different groups, 'Line 1 and 2 Shared' and 'Line 1 and 4 Shared'.\n",
    "\n",
    "For entries tagged as 'Other' in 'station_clean', we'll likewise tag their 'line_clean' as 'Other'."
   ]
  },
  {
   "cell_type": "code",
   "execution_count": 23,
   "metadata": {
    "id": "9c8IJCGa4z86"
   },
   "outputs": [],
   "source": [
    "def categorize_line(row):\n",
    "    station_clean = row['station_clean']\n",
    "    if station_clean in line_1:\n",
    "        return 'Line 1 Yonge-University'\n",
    "    elif station_clean in line_2:\n",
    "        return 'Line 2 Bloor-Danforth'\n",
    "    elif station_clean in line_3:\n",
    "        return 'Line 3 Scarborough'\n",
    "    elif station_clean in line_4:\n",
    "        return 'Line 4 Sheppard'\n",
    "    elif station_clean in line_1_2:\n",
    "        return 'Lines 1 and 2 Shared'\n",
    "    elif station_clean in line_1_4:\n",
    "        return 'Lines 1 and 4 Shared'\n",
    "    elif station_clean in line_2_3:\n",
    "        return 'Lines 2 and 3 Shared'\n",
    "    else:\n",
    "        return 'Other'\n",
    "\n",
    "df_master['line_clean'] = df_master.apply(categorize_line, axis=1)\n",
    "df_master['Line'] = df_master['Line'].fillna(df_master['line_clean'])"
   ]
  },
  {
   "cell_type": "markdown",
   "metadata": {
    "id": "TvVdjh44_kd_"
   },
   "source": [
    "Finally, let's verify if we were able to populate the null values under the 'Line' column."
   ]
  },
  {
   "cell_type": "code",
   "execution_count": 24,
   "metadata": {
    "colab": {
     "base_uri": "https://localhost:8080/",
     "height": 455
    },
    "id": "8h7bW5HQ40Cq",
    "outputId": "fde58b3e-9801-4924-bf88-f8b36c8ec1a8"
   },
   "outputs": [
    {
     "data": {
      "text/plain": [
       "Date                 0\n",
       "Time                 0\n",
       "Day                  0\n",
       "Station              0\n",
       "Code                 0\n",
       "Min Delay            0\n",
       "Min Gap              0\n",
       "Bound            54601\n",
       "Line                 0\n",
       "Vehicle              0\n",
       "station_clean        0\n",
       "line_clean           0\n",
       "dtype: int64"
      ]
     },
     "execution_count": 24,
     "metadata": {},
     "output_type": "execute_result"
    }
   ],
   "source": [
    "df_master.isnull().sum()"
   ]
  },
  {
   "cell_type": "markdown",
   "metadata": {
    "id": "p1OYYFXo_uMq"
   },
   "source": [
    "We did it!"
   ]
  },
  {
   "cell_type": "markdown",
   "metadata": {
    "id": "b9PVfob6AjrC"
   },
   "source": [
    "# **DATA PREPARATION**\n",
    "\n",
    "---\n",
    "\n"
   ]
  },
  {
   "cell_type": "markdown",
   "metadata": {},
   "source": [
    "## Datetime and Time Period"
   ]
  },
  {
   "cell_type": "markdown",
   "metadata": {
    "id": "RGECHQ9AAtG9"
   },
   "source": [
    "Before we proceed to Exploratory Data Analysis, we'll do a couple more things.\n",
    "\n",
    "Let's create a new column in the df_master data frame that will combine the data in 'Date' and 'Time' columns. We'll call this 'datetime'.\n",
    "\n",
    "This will help in our Exploratory Data Analysis later."
   ]
  },
  {
   "cell_type": "code",
   "execution_count": 25,
   "metadata": {
    "id": "Ds0HVMm6A9vM"
   },
   "outputs": [],
   "source": [
    "df_master['datetime'] = pd.to_datetime(df_master['Date'].astype(str) + ' ' + df_master['Time'].astype('str'))"
   ]
  },
  {
   "cell_type": "markdown",
   "metadata": {},
   "source": [
    "We'll also create a column where we'll categorize the datetime according to time period, i.e. early morning, morning, afternoon, and evening."
   ]
  },
  {
   "cell_type": "code",
   "execution_count": 43,
   "metadata": {},
   "outputs": [],
   "source": [
    "def categorize_time(row):\n",
    "    time_period = row['datetime'].time()\n",
    "    if datetime.strptime('00:00:00', '%H:%M:%S').time() <= time_period < datetime.strptime('06:00:00', '%H:%M:%S').time():\n",
    "        return 'early_morning'\n",
    "    elif datetime.strptime('06:00:00', '%H:%M:%S').time() <= time_period < datetime.strptime('12:00:00', '%H:%M:%S').time():\n",
    "        return 'morning'\n",
    "    elif datetime.strptime('12:00:00', '%H:%M:%S').time() <= time_period < datetime.strptime('18:00:00', '%H:%M:%S').time():\n",
    "        return 'afternoon'\n",
    "    elif datetime.strptime('18:00:00', '%H:%M:%S').time() <= time_period <= datetime.strptime('23:59:59', '%H:%M:%S').time():\n",
    "        return 'evening'\n",
    "    #else:\n",
    "    #    return 'other'\n",
    "\n",
    "df_master['time_period'] = df_master.apply(categorize_time, axis = 1)"
   ]
  },
  {
   "cell_type": "markdown",
   "metadata": {
    "id": "ERSrEhQQ-IDq"
   },
   "source": [
    "## Delay Codes and Code Description"
   ]
  },
  {
   "cell_type": "markdown",
   "metadata": {
    "id": "uqCqzoxaKRFO"
   },
   "source": [
    "And finally, we'll now use the TTC Delay Codes with our df_master. We'll be doing a bit of data cleaning here as well because the excel file for the Delay Codes contains two tables inside it, each with their own columns."
   ]
  },
  {
   "cell_type": "markdown",
   "metadata": {
    "id": "SaWuf4PC8fg5"
   },
   "source": [
    "### Lines 1, 2 and 4 Delay Codes\n",
    "\n",
    "The first table contains delay codes used for Lines 1, 2 and 4."
   ]
  },
  {
   "cell_type": "code",
   "execution_count": 27,
   "metadata": {
    "colab": {
     "base_uri": "https://localhost:8080/",
     "height": 419
    },
    "id": "Rk98ZaVQLCDB",
    "outputId": "cd2352d1-6881-4275-bd9b-b281167da135"
   },
   "outputs": [
    {
     "data": {
      "text/html": [
       "<div>\n",
       "<style scoped>\n",
       "    .dataframe tbody tr th:only-of-type {\n",
       "        vertical-align: middle;\n",
       "    }\n",
       "\n",
       "    .dataframe tbody tr th {\n",
       "        vertical-align: top;\n",
       "    }\n",
       "\n",
       "    .dataframe thead th {\n",
       "        text-align: right;\n",
       "    }\n",
       "</style>\n",
       "<table border=\"1\" class=\"dataframe\">\n",
       "  <thead>\n",
       "    <tr style=\"text-align: right;\">\n",
       "      <th></th>\n",
       "      <th>code</th>\n",
       "      <th>CODE DESCRIPTION</th>\n",
       "    </tr>\n",
       "  </thead>\n",
       "  <tbody>\n",
       "    <tr>\n",
       "      <th>1</th>\n",
       "      <td>EUAC</td>\n",
       "      <td>Air Conditioning</td>\n",
       "    </tr>\n",
       "    <tr>\n",
       "      <th>2</th>\n",
       "      <td>EUAL</td>\n",
       "      <td>Alternating Current</td>\n",
       "    </tr>\n",
       "    <tr>\n",
       "      <th>3</th>\n",
       "      <td>EUATC</td>\n",
       "      <td>ATC RC&amp;S Equipment</td>\n",
       "    </tr>\n",
       "    <tr>\n",
       "      <th>4</th>\n",
       "      <td>EUBK</td>\n",
       "      <td>Brakes</td>\n",
       "    </tr>\n",
       "    <tr>\n",
       "      <th>5</th>\n",
       "      <td>EUBO</td>\n",
       "      <td>Body</td>\n",
       "    </tr>\n",
       "    <tr>\n",
       "      <th>...</th>\n",
       "      <td>...</td>\n",
       "      <td>...</td>\n",
       "    </tr>\n",
       "    <tr>\n",
       "      <th>125</th>\n",
       "      <td>TUS</td>\n",
       "      <td>Crew Unable to Maintain Schedule</td>\n",
       "    </tr>\n",
       "    <tr>\n",
       "      <th>126</th>\n",
       "      <td>TUSC</td>\n",
       "      <td>Operator Overspeeding</td>\n",
       "    </tr>\n",
       "    <tr>\n",
       "      <th>127</th>\n",
       "      <td>TUSET</td>\n",
       "      <td>Train Controls Improperly Shut Down</td>\n",
       "    </tr>\n",
       "    <tr>\n",
       "      <th>128</th>\n",
       "      <td>TUST</td>\n",
       "      <td>Storm Trains</td>\n",
       "    </tr>\n",
       "    <tr>\n",
       "      <th>129</th>\n",
       "      <td>TUSUP</td>\n",
       "      <td>Supervisory Error</td>\n",
       "    </tr>\n",
       "  </tbody>\n",
       "</table>\n",
       "<p>129 rows × 2 columns</p>\n",
       "</div>"
      ],
      "text/plain": [
       "0     code                     CODE DESCRIPTION\n",
       "1     EUAC                     Air Conditioning\n",
       "2     EUAL                  Alternating Current\n",
       "3    EUATC                   ATC RC&S Equipment\n",
       "4     EUBK                               Brakes\n",
       "5     EUBO                                 Body\n",
       "..     ...                                  ...\n",
       "125    TUS     Crew Unable to Maintain Schedule\n",
       "126   TUSC                Operator Overspeeding\n",
       "127  TUSET  Train Controls Improperly Shut Down\n",
       "128   TUST                         Storm Trains\n",
       "129  TUSUP                    Supervisory Error\n",
       "\n",
       "[129 rows x 2 columns]"
      ]
     },
     "execution_count": 27,
     "metadata": {},
     "output_type": "execute_result"
    }
   ],
   "source": [
    "# the first table begins from column 2 and ends in column 4\n",
    "df_codes_1 = df_codes.iloc[:, 2:4]\n",
    "df_codes_1.columns = df_codes_1.iloc[0]\n",
    "df_codes_1 = df_codes_1.drop(index = 0)\n",
    "df_codes_1 = df_codes_1.rename(columns={df_codes_1.columns[0]: 'code'})\n",
    "df_codes_1 = df_codes_1.dropna()\n",
    "\n",
    "df_codes_1"
   ]
  },
  {
   "cell_type": "markdown",
   "metadata": {
    "id": "ZtDRlErZ84Cl"
   },
   "source": [
    "### Line 3 Delay Codes\n",
    "\n",
    "The second table contains delay codes used for Line 3."
   ]
  },
  {
   "cell_type": "code",
   "execution_count": 28,
   "metadata": {
    "colab": {
     "base_uri": "https://localhost:8080/",
     "height": 419
    },
    "id": "pOjVLwAsL4WP",
    "outputId": "8e7f9d1d-9054-490d-f342-f40fceb630bf"
   },
   "outputs": [
    {
     "data": {
      "text/html": [
       "<div>\n",
       "<style scoped>\n",
       "    .dataframe tbody tr th:only-of-type {\n",
       "        vertical-align: middle;\n",
       "    }\n",
       "\n",
       "    .dataframe tbody tr th {\n",
       "        vertical-align: top;\n",
       "    }\n",
       "\n",
       "    .dataframe thead th {\n",
       "        text-align: right;\n",
       "    }\n",
       "</style>\n",
       "<table border=\"1\" class=\"dataframe\">\n",
       "  <thead>\n",
       "    <tr style=\"text-align: right;\">\n",
       "      <th></th>\n",
       "      <th>code</th>\n",
       "      <th>CODE DESCRIPTION</th>\n",
       "    </tr>\n",
       "  </thead>\n",
       "  <tbody>\n",
       "    <tr>\n",
       "      <th>1</th>\n",
       "      <td>ERAC</td>\n",
       "      <td>Air Conditioning</td>\n",
       "    </tr>\n",
       "    <tr>\n",
       "      <th>2</th>\n",
       "      <td>ERBO</td>\n",
       "      <td>Body</td>\n",
       "    </tr>\n",
       "    <tr>\n",
       "      <th>3</th>\n",
       "      <td>ERCD</td>\n",
       "      <td>Consequential Delay (2nd Delay Same Fault)</td>\n",
       "    </tr>\n",
       "    <tr>\n",
       "      <th>4</th>\n",
       "      <td>ERCO</td>\n",
       "      <td>Couplers</td>\n",
       "    </tr>\n",
       "    <tr>\n",
       "      <th>5</th>\n",
       "      <td>ERDB</td>\n",
       "      <td>Disc Brakes</td>\n",
       "    </tr>\n",
       "    <tr>\n",
       "      <th>...</th>\n",
       "      <td>...</td>\n",
       "      <td>...</td>\n",
       "    </tr>\n",
       "    <tr>\n",
       "      <th>67</th>\n",
       "      <td>TRNOA</td>\n",
       "      <td>No Operator Immediately Available</td>\n",
       "    </tr>\n",
       "    <tr>\n",
       "      <th>68</th>\n",
       "      <td>TRO</td>\n",
       "      <td>Transportation Department - Other</td>\n",
       "    </tr>\n",
       "    <tr>\n",
       "      <th>69</th>\n",
       "      <td>TRSET</td>\n",
       "      <td>Train Controls Improperly Shut Down</td>\n",
       "    </tr>\n",
       "    <tr>\n",
       "      <th>70</th>\n",
       "      <td>TRST</td>\n",
       "      <td>Storm Trains</td>\n",
       "    </tr>\n",
       "    <tr>\n",
       "      <th>71</th>\n",
       "      <td>TRTC</td>\n",
       "      <td>Transit Control Related Problems</td>\n",
       "    </tr>\n",
       "  </tbody>\n",
       "</table>\n",
       "<p>71 rows × 2 columns</p>\n",
       "</div>"
      ],
      "text/plain": [
       "0    code                            CODE DESCRIPTION\n",
       "1    ERAC                            Air Conditioning\n",
       "2    ERBO                                        Body\n",
       "3    ERCD  Consequential Delay (2nd Delay Same Fault)\n",
       "4    ERCO                                    Couplers\n",
       "5    ERDB                                 Disc Brakes\n",
       "..    ...                                         ...\n",
       "67  TRNOA          No Operator Immediately Available \n",
       "68    TRO           Transportation Department - Other\n",
       "69  TRSET         Train Controls Improperly Shut Down\n",
       "70   TRST                                Storm Trains\n",
       "71   TRTC            Transit Control Related Problems\n",
       "\n",
       "[71 rows x 2 columns]"
      ]
     },
     "execution_count": 28,
     "metadata": {},
     "output_type": "execute_result"
    }
   ],
   "source": [
    "# the second table begins from column 6 and ends in column 9\n",
    "df_codes_2 = df_codes.iloc[:, 6:9]\n",
    "df_codes_2.columns = df_codes_2.iloc[0]\n",
    "df_codes_2 = df_codes_2.drop(index = 0)\n",
    "df_codes_2 = df_codes_2.rename(columns={df_codes_2.columns[0]: 'code'})\n",
    "df_codes_2 = df_codes_2.dropna()\n",
    "\n",
    "df_codes_2"
   ]
  },
  {
   "cell_type": "markdown",
   "metadata": {
    "id": "MDVqOuVtOvfj"
   },
   "source": [
    "We'll look up the values in the 'code' column in df_master and pull the corresponding values in the 'code description' column in either df_codes_1 or df_codes 2. We'll put this in a new column labeled 'delay_causes'."
   ]
  },
  {
   "cell_type": "markdown",
   "metadata": {
    "id": "ejTkoO-s9HcT"
   },
   "source": [
    "### Combined Delay Codes\n",
    "\n",
    "We'll combine df_codes_1 and df_codes_2 into one data frame and merge this our delay codes in df_master."
   ]
  },
  {
   "cell_type": "code",
   "execution_count": 29,
   "metadata": {
    "id": "2qmhyIMtO4PL"
   },
   "outputs": [],
   "source": [
    "df_codes = pd.concat([df_codes_1, df_codes_2], ignore_index = True)\n",
    "\n",
    "# another bit of cleaning here, we'll remove the leading and trailing spaces in df_codes\n",
    "for col in df_codes.select_dtypes(include = ['object']):\n",
    "  df_codes[col] = df_codes[col].str.strip()\n",
    "\n",
    "# and now we match\n",
    "code_lookup = dict(zip(df_codes['code'], df_codes['CODE DESCRIPTION']))\n",
    "df_master['delay_cause'] = df_master['Code'].map(code_lookup)"
   ]
  },
  {
   "cell_type": "code",
   "execution_count": 30,
   "metadata": {
    "colab": {
     "base_uri": "https://localhost:8080/",
     "height": 484
    },
    "id": "V8DrQcB9824c",
    "outputId": "aa3de536-a8af-4140-ddc6-8e6df571b2c7"
   },
   "outputs": [
    {
     "data": {
      "text/plain": [
       "delay_cause\n",
       "Miscellaneous Speed Control                                21340\n",
       "Injured or ill Customer (In Station) - Transported         17496\n",
       "Disorderly Patron                                          16704\n",
       "Operator Overspeeding                                      15471\n",
       "Passenger Assistance Alarm Activated - No Trouble Found    14462\n",
       "                                                           ...  \n",
       "Data Communications System Failure                             3\n",
       "Labour Dispute - Subway                                        2\n",
       "Chopper Control                                                2\n",
       "EAS Failure                                                    2\n",
       "Beacon Failure                                                 1\n",
       "Name: count, Length: 143, dtype: int64"
      ]
     },
     "execution_count": 30,
     "metadata": {},
     "output_type": "execute_result"
    }
   ],
   "source": [
    "df_master['delay_cause'].value_counts()"
   ]
  },
  {
   "cell_type": "markdown",
   "metadata": {
    "id": "Cz8BG6kl897k"
   },
   "source": [
    "From the 200 possible causes of delay of the TTC, 143 were recorded in the dataset. The reduction is due to identical delay codes between the two tables."
   ]
  },
  {
   "cell_type": "markdown",
   "metadata": {
    "id": "SgSlr5qJ9nYn"
   },
   "source": [
    "## Delay Cause Clustering"
   ]
  },
  {
   "cell_type": "markdown",
   "metadata": {
    "id": "tniGJg7n9kP1"
   },
   "source": [
    "Let's do a bit of clustering here to make this more manageable. We'll explain later why we did this, but for now let's just do it!"
   ]
  },
  {
   "cell_type": "code",
   "execution_count": 31,
   "metadata": {
    "id": "gRRzpfXdzSaG"
   },
   "outputs": [],
   "source": [
    "personnel_related = {'Personnel Related' :\n",
    "  ['ATC Operator Related',\n",
    "  'Crew Unable to Maintain Schedule',\n",
    "  'Divisional Clerk Related',\n",
    "  'ECD / Line Mechanic Related Prob.',\n",
    "  'Injured Employee',\n",
    "  'Labour Dispute - Subway',\n",
    "  'Misc. Transportation Other - Employee Non-Chargeable',\n",
    "  'No Operator Immediately Available',\n",
    "  'No Operator Immediately Available - Not E.S.A. Related',\n",
    "  'Operator Not In Position',\n",
    "  'Operator Overspeeding',\n",
    "  'Operator Overshot Platform',\n",
    "  'Operator Violated Signal',\n",
    "  'OPTO Operator Related',\n",
    "  'OPTO RC&S Non-Train Door Monitoring',\n",
    "  'OPTO (COMMS) Train Door Monitoring',\n",
    "  'Rail Cars & Shops Opr. Error',\n",
    "  'RC&S Maintenance Error - (Human)',\n",
    "  'Signals Zone Countroller Failure',\n",
    "  'Supervisory Error',\n",
    "  'T & S Contractor Problems',\n",
    "  'T & S Operator Related Problems',\n",
    "  'Training Department Related Delays',\n",
    "  'Train Controls Improperly Shut Down',\n",
    "  'Transportation Department - Other',\n",
    "  'Two Drum Switch Keys Activated',\n",
    "  'Work Refusal']}\n",
    "\n",
    "equipment_related = {'Equipment Related' :\n",
    "  ['Air Conditioning',\n",
    "  'Alternating Current',\n",
    "  'ATC Project',\n",
    "  'ATC RC&S Equipment',\n",
    "  'ATC Signals Other',\n",
    "  'Axle Counter Related',\n",
    "  'Beacon Failure',\n",
    "  'Body',\n",
    "  'Brakes',\n",
    "  'Central Office Signalling System',\n",
    "  'Chopper Control',\n",
    "  'Compressed Air',\n",
    "  'Consequential Delay (2nd Delay Same Fault)',\n",
    "  'Couplers',\n",
    "  'Data Communications System Failure',\n",
    "  'Door Problems - Faulty Equipment',\n",
    "  'Doors Open in Error',\n",
    "  'EAS Failure',\n",
    "  'Escalator/Elevator Incident',\n",
    "  'Equipment - No Trouble Found',\n",
    "  'Graffiti / Scratchiti',\n",
    "  'High Voltage',\n",
    "  'Insulated Joint Related Problem',\n",
    "  'Lighting System',\n",
    "  'Loop Related Failures',\n",
    "  'Low Voltage',\n",
    "  'Mainline Storage',\n",
    "  'Misc. Engineering & Construction Related Problems',\n",
    "  'No Equipment Available',\n",
    "  'Overhead Door Contact',\n",
    "  'Propulsion System',\n",
    "  'Radio',\n",
    "  'Rail Defect/Fastenings/Power Rail',\n",
    "  'Rail Related Problem',\n",
    "  'SCADA Related Problems',\n",
    "  'Scheduled Track Maintenance',\n",
    "  'Signal Control Problem - Signals',\n",
    "  'Signal Control Problem - Track',\n",
    "  'Signal Problem - No Trouble',\n",
    "  'Signals Axle Counter Block Failure',\n",
    "  'Signals - Track Circuit Problems',\n",
    "  'Signals - Train Stops',\n",
    "  'Signals or Related Components Failure',\n",
    "  'Signals Power Supply Related',\n",
    "  'Smart IO Failure',\n",
    "  'Speed Control Equipment',\n",
    "  'Storm Trains',\n",
    "  'Structure Related Problem',\n",
    "  'Subway Car Radio Fault',\n",
    "  'Subway Radio System Fault',\n",
    "  'Switch Related',\n",
    "  'Timeout',\n",
    "  'TR Cab Doors',\n",
    "  'Track Circuit Problems - Re: Defective Bolts/Bonding',\n",
    "  'Track Switch Failure - Signal Related Problem',\n",
    "  'Track Switch Failure - Track Related Problem',\n",
    "  'Traction Motors',\n",
    "  'Traction Power or Related Components Failure',\n",
    "  'Traction Power Rail Related',\n",
    "  'Train Control - VOBC',\n",
    "  'Trainline System',\n",
    "  'Transit Control Related Problems',\n",
    "  'Trucks',\n",
    "  'Unsanitary Vehicle',\n",
    "  'VCC/RCIU/CCR',\n",
    "  'Vehicle',\n",
    "  'Wind Shield',\n",
    "  'Work Vehicle',\n",
    "  'Work Zone Problems - Track',\n",
    "  'Work Zone Problems - Signals',\n",
    "  'Yard/Carhouse Related Problems']}\n",
    "\n",
    "passenger_related = {'Passenger Related' :\n",
    " ['Assault / Employee Involved',\n",
    " 'Assault / Patron Involved',\n",
    " 'Disorderly Patron',\n",
    " 'Door Problems - Passenger Related',\n",
    " 'Held By Polce - Non-TTC Related',\n",
    " 'Injured or ill Customer (In Station) - Transported',\n",
    " 'Injured or ill Customer (In Station) - Medical Aid Refused',\n",
    " 'Injured or ill Customer (On Train) - Medical Aid Refused',\n",
    " 'Injured or ill Customer (On Train) - Transported',\n",
    " 'Passenger Assistance Alarm Activated - No Trouble Found',\n",
    " 'Passenger Other',\n",
    " 'Priority One - Train in Contact With Person',\n",
    " 'Robbery',\n",
    " 'Sexual Assault',\n",
    " 'Station Stairway Incident',\n",
    " 'Unauthorized at Track Level']}\n",
    "\n",
    "fortuitous_event = {'Fortuitous Event' :\n",
    " ['Bomb Threat',\n",
    " 'Collector Booth Alarm Activated',\n",
    " 'Debris At Track Level - Uncontrollable',\n",
    " 'Door Problems - Debris Related',\n",
    " 'Emergency Alarm Station Activation',\n",
    " 'Fire/Smoke Plan A',\n",
    " 'Fire/Smoke Plan B',\n",
    " 'Fire/Smoke Plan B - Source TTC',\n",
    " 'Fire/Smoke Plan B - Source External to TTC',\n",
    " 'Fire/Smoke Plan C',\n",
    " 'Force Majeure',\n",
    " 'Ice / Snow Related Problems',\n",
    " 'Signals Track Weather Related',\n",
    " 'Suspicious Package',\n",
    " 'Track Level Debris - Controllable',\n",
    " 'Weather Reports / Related Delays',\n",
    " 'Warning Alarm Systems']}\n",
    "\n",
    "undefined = {'Undefined' :\n",
    "  ['Miscellaneous General Delays',\n",
    "  'Miscellaneous Other',\n",
    "  'Miscellaneous Speed Control',\n",
    "  'Other',\n",
    "  'Others',\n",
    "  'RC&S Other',\n",
    "  'S/E/C Department Other',\n",
    "  'Station Other',\n",
    "  'T&S Related Problem - NTF',\n",
    "  'T&S Other']}\n",
    "\n",
    "delay_categories = {**personnel_related, **equipment_related, **passenger_related, **fortuitous_event, **undefined}"
   ]
  },
  {
   "cell_type": "markdown",
   "metadata": {
    "id": "6Ghv1hIQ972u"
   },
   "source": [
    "Same as what we did previously, we'll run our data set through the dictionary we just created above, then categorize the causes of delay in a new column according to: Personnel Related, Equipment Related, Passenger Related, Fortuitous Event, and Undefined."
   ]
  },
  {
   "cell_type": "code",
   "execution_count": 32,
   "metadata": {
    "id": "9Nf0WgaBIyye"
   },
   "outputs": [],
   "source": [
    "def categorize_delay(delay_cause):\n",
    "    delay_cause = str(delay_cause)\n",
    "    for category, values in delay_categories.items():\n",
    "      if any(value in delay_cause for value in values):\n",
    "        return category\n",
    "    return \"Undefined\"\n",
    "\n",
    "df_master['delay_category'] = df_master['delay_cause'].apply(categorize_delay)"
   ]
  },
  {
   "cell_type": "markdown",
   "metadata": {
    "id": "ZhcwlnztLV3A"
   },
   "source": [
    "Looking into the entries in the 'Code' column, we'll see another issue in the TTC data set: there are codes that are not described nor defined by the TTC. Meaning, these codes are not in the delay code tables."
   ]
  },
  {
   "cell_type": "code",
   "execution_count": 33,
   "metadata": {
    "colab": {
     "base_uri": "https://localhost:8080/"
    },
    "id": "ktPqaCu4-5MK",
    "outputId": "99f406dd-bf32-44d2-8e6e-92918c674587"
   },
   "outputs": [
    {
     "name": "stdout",
     "output_type": "stream",
     "text": [
      "Codes in df_master but not in df_codes:\n",
      "{'PUEWZ', 'STO', 'STDP', 'TUNCA', 'SFO', 'MUNCA', 'MTAFR', 'MTUI', 'PUEME', 'ERTO', 'XXXXX', 'PUEO', 'MFO', 'PUTN', 'EUTAC', 'MTO', 'TRNCA', 'SFDP', 'SFAE', 'MUPF', 'PUSIC', 'ETCA', 'SUPD', 'TUTD', 'SFAP', 'MUCSA'}\n",
      "26\n",
      "\n",
      "Codes in df_codes but not in df_master:\n",
      "4\n"
     ]
    }
   ],
   "source": [
    "unique_codes_master = df_master['Code'].unique()\n",
    "codes_delay_table = df_codes['code'].unique()\n",
    "\n",
    "# Find codes present in df_master but not in df_codes\n",
    "missing_codes = set(unique_codes_master) - set(codes_delay_table)\n",
    "print(\"Codes in df_master but not in df_codes:\")\n",
    "print(missing_codes)\n",
    "print(len(missing_codes))\n",
    "\n",
    "# Find codes present in df_codes but not in df_master\n",
    "extra_codes = set(codes_delay_table) - set(unique_codes_master)\n",
    "print(\"\\nCodes in df_codes but not in df_master:\")\n",
    "extra_codes\n",
    "print(len(extra_codes))"
   ]
  },
  {
   "cell_type": "code",
   "execution_count": 34,
   "metadata": {
    "colab": {
     "base_uri": "https://localhost:8080/",
     "height": 176
    },
    "id": "uSy0CIYsMSjS",
    "outputId": "f0e42ba0-3cb0-473e-87b9-e801cbe9a325"
   },
   "outputs": [
    {
     "data": {
      "text/plain": [
       "Code\n",
       "False    210021\n",
       "True       4440\n",
       "Name: count, dtype: int64"
      ]
     },
     "execution_count": 34,
     "metadata": {},
     "output_type": "execute_result"
    }
   ],
   "source": [
    "df_master['Code'].isin(missing_codes).value_counts()"
   ]
  },
  {
   "cell_type": "markdown",
   "metadata": {
    "id": "wWkmtpl2MACf"
   },
   "source": [
    "There are 4440 entries that are affected by this, and there are 26 undefined delay codes: 'MUNCA', 'TUNCA', 'MUPF', 'PUEO', 'PUEME', 'XXXXX', 'PUEWZ', 'TRNCA', 'EUTAC', 'SUPD', 'MTAFR', 'MTUI', 'MFO', 'STDP', 'MUCSA', 'MTO', 'STO', 'PUSIC', 'ERTO', 'ETCA', 'TUTD', 'SFO', 'SFDP', 'SFAP', 'PUTN', and 'SFAE'.\n",
    "\n",
    "These codes might be typographical errors or they might mean something to TTC. We can't know for sure, so let's leave them as it is under the 'Code' column, 'Null' for the 'delay_cause' column, and 'Undefined' under 'delay_category'. We'll include these in our Exploratory Data Analysis later, albeit lumping them under the catch-all 'Undefined' Category.\n",
    "\n",
    "Now, we're ready!"
   ]
  },
  {
   "cell_type": "markdown",
   "metadata": {
    "id": "uLwBSXz-aS-q"
   },
   "source": [
    "## Outlier Checking\n",
    "\n",
    "Let's create a box plot to check for any outliers in our data."
   ]
  },
  {
   "cell_type": "code",
   "execution_count": 35,
   "metadata": {
    "colab": {
     "base_uri": "https://localhost:8080/",
     "height": 54
    },
    "id": "JR-YQqfUVPiS",
    "outputId": "a2f780ff-9ef3-4208-8928-d59b38756795"
   },
   "outputs": [
    {
     "data": {
      "image/png": "[encoded data removed]",
      "text/plain": [
       "<Figure size 1200x600 with 1 Axes>"
      ]
     },
     "metadata": {},
     "output_type": "display_data"
    }
   ],
   "source": [
    "plt.figure(figsize = (12, 6))\n",
    "plt.boxplot(df_master['Min Delay'], vert = False)\n",
    "plt.title('Box Plot of Minutes Delayed')\n",
    "plt.xlabel('Minutes')\n",
    "plt.tight_layout()\n",
    "plt.show()"
   ]
  },
  {
   "cell_type": "markdown",
   "metadata": {
    "id": "lr0brb4yWbSg"
   },
   "source": [
    "Looking at our box plot above, there seems to be instances wherein the minutes delayed lasted for more than 300 minutes, or 5 hours. Let's check if these instances make sense in the context of the cause of the delay."
   ]
  },
  {
   "cell_type": "code",
   "execution_count": 36,
   "metadata": {
    "colab": {
     "base_uri": "https://localhost:8080/"
    },
    "id": "vTM7a35oC8Lw",
    "outputId": "64fe3c12-29ad-4a70-fe76-80d1a09571d7"
   },
   "outputs": [
    {
     "name": "stdout",
     "output_type": "stream",
     "text": [
      "                                         delay_cause  Min Delay\n",
      "21578                                   VCC/RCIU/CCR        309\n",
      "71212                            Miscellaneous Other        312\n",
      "54336    Priority One - Train in Contact With Person        312\n",
      "44166               Weather Reports / Related Delays        315\n",
      "208211             Rail Defect/Fastenings/Power Rail        325\n",
      "54985    Priority One - Train in Contact With Person        327\n",
      "158739                                 Station Other        340\n",
      "14165               Weather Reports / Related Delays        340\n",
      "173047                                 Force Majeure        342\n",
      "74265               Signals - Track Circuit Problems        343\n",
      "69701                    Traction Power Rail Related        348\n",
      "135428             Rail Defect/Fastenings/Power Rail        355\n",
      "26967                 Fire/Smoke Plan B - Source TTC        360\n",
      "53930                 Fire/Smoke Plan B - Source TTC        382\n",
      "49265                           Rail Related Problem        388\n",
      "170724                                 Force Majeure        389\n",
      "26388                          Loop Related Failures        420\n",
      "32603                                       Couplers        423\n",
      "161879                     Structure Related Problem        424\n",
      "84845                            Miscellaneous Other        446\n",
      "80811               Transit Control Related Problems        450\n",
      "171973                                 Force Majeure        452\n",
      "103228                          Rail Related Problem        455\n",
      "61244                              Fire/Smoke Plan B        458\n",
      "4373    Track Switch Failure - Track Related Problem        491\n",
      "129799                     Assault / Patron Involved        515\n",
      "169132                                  High Voltage        555\n",
      "196212                             Fire/Smoke Plan A        575\n",
      "8452                  Fire/Smoke Plan B - Source TTC        640\n",
      "9825      Consequential Delay (2nd Delay Same Fault)        716\n",
      "148640              Weather Reports / Related Delays        788\n",
      "169698                                  High Voltage        999\n",
      "Total number of delay instances that lasted more than 300 minutes:  32\n"
     ]
    }
   ],
   "source": [
    "print(df_master[df_master['Min Delay'] > 300][['delay_cause', 'Min Delay']].sort_values(by = 'Min Delay'))\n",
    "print(\"Total number of delay instances that lasted more than 300 minutes: \", df_master[df_master['Min Delay'] > 300]['delay_cause'].count())"
   ]
  },
  {
   "cell_type": "markdown",
   "metadata": {
    "id": "Mem57S01ZRVk"
   },
   "source": [
    "Looking through the above table, we can determine that delays that lasted for 5 hours were caused by major incidents: train getting in contact with a person, criminal activity, fires, weather disturbances, structural defects, and voltage issues.\n",
    "\n",
    "Although outliers can skew our data, we decide to keep these because we determined that the values are feasible given the nature of the cause of the delay."
   ]
  },
  {
   "cell_type": "markdown",
   "metadata": {
    "id": "2Yf4I5ih-R1e"
   },
   "source": [
    "# **DATASET**\n",
    "\n",
    "---\n",
    "\n"
   ]
  },
  {
   "cell_type": "code",
   "execution_count": 44,
   "metadata": {
    "colab": {
     "base_uri": "https://localhost:8080/",
     "height": 898
    },
    "id": "-IAaKwrPRq6v",
    "outputId": "d8b9c8bd-3f52-4d38-f5e4-72de677400ff"
   },
   "outputs": [
    {
     "data": {
      "text/html": [
       "<div>\n",
       "<style scoped>\n",
       "    .dataframe tbody tr th:only-of-type {\n",
       "        vertical-align: middle;\n",
       "    }\n",
       "\n",
       "    .dataframe tbody tr th {\n",
       "        vertical-align: top;\n",
       "    }\n",
       "\n",
       "    .dataframe thead th {\n",
       "        text-align: right;\n",
       "    }\n",
       "</style>\n",
       "<table border=\"1\" class=\"dataframe\">\n",
       "  <thead>\n",
       "    <tr style=\"text-align: right;\">\n",
       "      <th></th>\n",
       "      <th>Date</th>\n",
       "      <th>Time</th>\n",
       "      <th>Day</th>\n",
       "      <th>Station</th>\n",
       "      <th>Code</th>\n",
       "      <th>Min Delay</th>\n",
       "      <th>Min Gap</th>\n",
       "      <th>Bound</th>\n",
       "      <th>Line</th>\n",
       "      <th>Vehicle</th>\n",
       "      <th>station_clean</th>\n",
       "      <th>line_clean</th>\n",
       "      <th>datetime</th>\n",
       "      <th>time_period</th>\n",
       "      <th>delay_cause</th>\n",
       "      <th>delay_category</th>\n",
       "    </tr>\n",
       "  </thead>\n",
       "  <tbody>\n",
       "    <tr>\n",
       "      <th>0</th>\n",
       "      <td>2024-01-01</td>\n",
       "      <td>02:00</td>\n",
       "      <td>Monday</td>\n",
       "      <td>SHEPPARD STATION</td>\n",
       "      <td>MUI</td>\n",
       "      <td>0</td>\n",
       "      <td>0</td>\n",
       "      <td>N</td>\n",
       "      <td>YU</td>\n",
       "      <td>5491</td>\n",
       "      <td>Sheppard-Yonge</td>\n",
       "      <td>Lines 1 and 4 Shared</td>\n",
       "      <td>2024-01-01 02:00:00</td>\n",
       "      <td>early_morning</td>\n",
       "      <td>Injured or ill Customer (On Train) - Transported</td>\n",
       "      <td>Passenger Related</td>\n",
       "    </tr>\n",
       "    <tr>\n",
       "      <th>1</th>\n",
       "      <td>2024-01-01</td>\n",
       "      <td>02:00</td>\n",
       "      <td>Monday</td>\n",
       "      <td>DUNDAS STATION</td>\n",
       "      <td>MUIS</td>\n",
       "      <td>0</td>\n",
       "      <td>0</td>\n",
       "      <td>N</td>\n",
       "      <td>YU</td>\n",
       "      <td>0</td>\n",
       "      <td>Dundas</td>\n",
       "      <td>Line 1 Yonge-University</td>\n",
       "      <td>2024-01-01 02:00:00</td>\n",
       "      <td>early_morning</td>\n",
       "      <td>Injured or ill Customer (In Station) - Transpo...</td>\n",
       "      <td>Passenger Related</td>\n",
       "    </tr>\n",
       "    <tr>\n",
       "      <th>2</th>\n",
       "      <td>2024-01-01</td>\n",
       "      <td>02:08</td>\n",
       "      <td>Monday</td>\n",
       "      <td>DUNDAS STATION</td>\n",
       "      <td>MUPAA</td>\n",
       "      <td>4</td>\n",
       "      <td>10</td>\n",
       "      <td>N</td>\n",
       "      <td>YU</td>\n",
       "      <td>6051</td>\n",
       "      <td>Dundas</td>\n",
       "      <td>Line 1 Yonge-University</td>\n",
       "      <td>2024-01-01 02:08:00</td>\n",
       "      <td>early_morning</td>\n",
       "      <td>Passenger Assistance Alarm Activated - No Trou...</td>\n",
       "      <td>Passenger Related</td>\n",
       "    </tr>\n",
       "    <tr>\n",
       "      <th>3</th>\n",
       "      <td>2024-01-01</td>\n",
       "      <td>02:13</td>\n",
       "      <td>Monday</td>\n",
       "      <td>KENNEDY BD STATION</td>\n",
       "      <td>PUTDN</td>\n",
       "      <td>10</td>\n",
       "      <td>16</td>\n",
       "      <td>E</td>\n",
       "      <td>BD</td>\n",
       "      <td>5284</td>\n",
       "      <td>Kennedy</td>\n",
       "      <td>Lines 2 and 3 Shared</td>\n",
       "      <td>2024-01-01 02:13:00</td>\n",
       "      <td>early_morning</td>\n",
       "      <td>Debris At Track Level - Uncontrollable</td>\n",
       "      <td>Fortuitous Event</td>\n",
       "    </tr>\n",
       "    <tr>\n",
       "      <th>4</th>\n",
       "      <td>2024-01-01</td>\n",
       "      <td>02:22</td>\n",
       "      <td>Monday</td>\n",
       "      <td>BLOOR STATION</td>\n",
       "      <td>MUPAA</td>\n",
       "      <td>4</td>\n",
       "      <td>10</td>\n",
       "      <td>N</td>\n",
       "      <td>YU</td>\n",
       "      <td>5986</td>\n",
       "      <td>Bloor-Yonge</td>\n",
       "      <td>Lines 1 and 2 Shared</td>\n",
       "      <td>2024-01-01 02:22:00</td>\n",
       "      <td>early_morning</td>\n",
       "      <td>Passenger Assistance Alarm Activated - No Trou...</td>\n",
       "      <td>Passenger Related</td>\n",
       "    </tr>\n",
       "    <tr>\n",
       "      <th>...</th>\n",
       "      <td>...</td>\n",
       "      <td>...</td>\n",
       "      <td>...</td>\n",
       "      <td>...</td>\n",
       "      <td>...</td>\n",
       "      <td>...</td>\n",
       "      <td>...</td>\n",
       "      <td>...</td>\n",
       "      <td>...</td>\n",
       "      <td>...</td>\n",
       "      <td>...</td>\n",
       "      <td>...</td>\n",
       "      <td>...</td>\n",
       "      <td>...</td>\n",
       "      <td>...</td>\n",
       "      <td>...</td>\n",
       "    </tr>\n",
       "    <tr>\n",
       "      <th>215597</th>\n",
       "      <td>2017-04-30</td>\n",
       "      <td>19:50</td>\n",
       "      <td>Sunday</td>\n",
       "      <td>BLOOR DANFORTH SUBWAY</td>\n",
       "      <td>MUO</td>\n",
       "      <td>0</td>\n",
       "      <td>0</td>\n",
       "      <td>NaN</td>\n",
       "      <td>BD</td>\n",
       "      <td>0</td>\n",
       "      <td>Bloor-Yonge</td>\n",
       "      <td>Lines 1 and 2 Shared</td>\n",
       "      <td>2017-04-30 19:50:00</td>\n",
       "      <td>evening</td>\n",
       "      <td>Miscellaneous Other</td>\n",
       "      <td>Undefined</td>\n",
       "    </tr>\n",
       "    <tr>\n",
       "      <th>215598</th>\n",
       "      <td>2017-04-30</td>\n",
       "      <td>20:25</td>\n",
       "      <td>Sunday</td>\n",
       "      <td>WARDEN STATION</td>\n",
       "      <td>SUDP</td>\n",
       "      <td>4</td>\n",
       "      <td>8</td>\n",
       "      <td>W</td>\n",
       "      <td>BD</td>\n",
       "      <td>5107</td>\n",
       "      <td>Warden</td>\n",
       "      <td>Line 2 Bloor-Danforth</td>\n",
       "      <td>2017-04-30 20:25:00</td>\n",
       "      <td>evening</td>\n",
       "      <td>Disorderly Patron</td>\n",
       "      <td>Passenger Related</td>\n",
       "    </tr>\n",
       "    <tr>\n",
       "      <th>215599</th>\n",
       "      <td>2017-04-30</td>\n",
       "      <td>20:29</td>\n",
       "      <td>Sunday</td>\n",
       "      <td>KEELE STATION</td>\n",
       "      <td>SUROB</td>\n",
       "      <td>0</td>\n",
       "      <td>0</td>\n",
       "      <td>NaN</td>\n",
       "      <td>BD</td>\n",
       "      <td>0</td>\n",
       "      <td>Keele</td>\n",
       "      <td>Line 2 Bloor-Danforth</td>\n",
       "      <td>2017-04-30 20:29:00</td>\n",
       "      <td>evening</td>\n",
       "      <td>Robbery</td>\n",
       "      <td>Passenger Related</td>\n",
       "    </tr>\n",
       "    <tr>\n",
       "      <th>215600</th>\n",
       "      <td>2017-04-30</td>\n",
       "      <td>22:00</td>\n",
       "      <td>Sunday</td>\n",
       "      <td>YONGE UNIVERSITY LINE</td>\n",
       "      <td>MUO</td>\n",
       "      <td>0</td>\n",
       "      <td>0</td>\n",
       "      <td>NaN</td>\n",
       "      <td>YU/BD</td>\n",
       "      <td>0</td>\n",
       "      <td>Bloor-Yonge</td>\n",
       "      <td>Lines 1 and 2 Shared</td>\n",
       "      <td>2017-04-30 22:00:00</td>\n",
       "      <td>evening</td>\n",
       "      <td>Miscellaneous Other</td>\n",
       "      <td>Undefined</td>\n",
       "    </tr>\n",
       "    <tr>\n",
       "      <th>215601</th>\n",
       "      <td>2017-04-30</td>\n",
       "      <td>22:13</td>\n",
       "      <td>Sunday</td>\n",
       "      <td>BLOOR DANFORTH SUBWAY</td>\n",
       "      <td>MUGD</td>\n",
       "      <td>0</td>\n",
       "      <td>0</td>\n",
       "      <td>NaN</td>\n",
       "      <td>BD</td>\n",
       "      <td>0</td>\n",
       "      <td>Bloor-Yonge</td>\n",
       "      <td>Lines 1 and 2 Shared</td>\n",
       "      <td>2017-04-30 22:13:00</td>\n",
       "      <td>evening</td>\n",
       "      <td>Miscellaneous General Delays</td>\n",
       "      <td>Undefined</td>\n",
       "    </tr>\n",
       "  </tbody>\n",
       "</table>\n",
       "<p>214461 rows × 16 columns</p>\n",
       "</div>"
      ],
      "text/plain": [
       "             Date   Time     Day                Station   Code  Min Delay  \\\n",
       "0      2024-01-01  02:00  Monday       SHEPPARD STATION    MUI          0   \n",
       "1      2024-01-01  02:00  Monday         DUNDAS STATION   MUIS          0   \n",
       "2      2024-01-01  02:08  Monday         DUNDAS STATION  MUPAA          4   \n",
       "3      2024-01-01  02:13  Monday     KENNEDY BD STATION  PUTDN         10   \n",
       "4      2024-01-01  02:22  Monday          BLOOR STATION  MUPAA          4   \n",
       "...           ...    ...     ...                    ...    ...        ...   \n",
       "215597 2017-04-30  19:50  Sunday  BLOOR DANFORTH SUBWAY    MUO          0   \n",
       "215598 2017-04-30  20:25  Sunday         WARDEN STATION   SUDP          4   \n",
       "215599 2017-04-30  20:29  Sunday          KEELE STATION  SUROB          0   \n",
       "215600 2017-04-30  22:00  Sunday  YONGE UNIVERSITY LINE    MUO          0   \n",
       "215601 2017-04-30  22:13  Sunday  BLOOR DANFORTH SUBWAY   MUGD          0   \n",
       "\n",
       "        Min Gap Bound   Line  Vehicle   station_clean  \\\n",
       "0             0     N     YU     5491  Sheppard-Yonge   \n",
       "1             0     N     YU        0          Dundas   \n",
       "2            10     N     YU     6051          Dundas   \n",
       "3            16     E     BD     5284         Kennedy   \n",
       "4            10     N     YU     5986     Bloor-Yonge   \n",
       "...         ...   ...    ...      ...             ...   \n",
       "215597        0   NaN     BD        0     Bloor-Yonge   \n",
       "215598        8     W     BD     5107          Warden   \n",
       "215599        0   NaN     BD        0           Keele   \n",
       "215600        0   NaN  YU/BD        0     Bloor-Yonge   \n",
       "215601        0   NaN     BD        0     Bloor-Yonge   \n",
       "\n",
       "                     line_clean            datetime    time_period  \\\n",
       "0          Lines 1 and 4 Shared 2024-01-01 02:00:00  early_morning   \n",
       "1       Line 1 Yonge-University 2024-01-01 02:00:00  early_morning   \n",
       "2       Line 1 Yonge-University 2024-01-01 02:08:00  early_morning   \n",
       "3          Lines 2 and 3 Shared 2024-01-01 02:13:00  early_morning   \n",
       "4          Lines 1 and 2 Shared 2024-01-01 02:22:00  early_morning   \n",
       "...                         ...                 ...            ...   \n",
       "215597     Lines 1 and 2 Shared 2017-04-30 19:50:00        evening   \n",
       "215598    Line 2 Bloor-Danforth 2017-04-30 20:25:00        evening   \n",
       "215599    Line 2 Bloor-Danforth 2017-04-30 20:29:00        evening   \n",
       "215600     Lines 1 and 2 Shared 2017-04-30 22:00:00        evening   \n",
       "215601     Lines 1 and 2 Shared 2017-04-30 22:13:00        evening   \n",
       "\n",
       "                                              delay_cause     delay_category  \n",
       "0        Injured or ill Customer (On Train) - Transported  Passenger Related  \n",
       "1       Injured or ill Customer (In Station) - Transpo...  Passenger Related  \n",
       "2       Passenger Assistance Alarm Activated - No Trou...  Passenger Related  \n",
       "3                  Debris At Track Level - Uncontrollable   Fortuitous Event  \n",
       "4       Passenger Assistance Alarm Activated - No Trou...  Passenger Related  \n",
       "...                                                   ...                ...  \n",
       "215597                                Miscellaneous Other          Undefined  \n",
       "215598                                  Disorderly Patron  Passenger Related  \n",
       "215599                                            Robbery  Passenger Related  \n",
       "215600                                Miscellaneous Other          Undefined  \n",
       "215601                       Miscellaneous General Delays          Undefined  \n",
       "\n",
       "[214461 rows x 16 columns]"
      ]
     },
     "execution_count": 44,
     "metadata": {},
     "output_type": "execute_result"
    }
   ],
   "source": [
    "df_master"
   ]
  },
  {
   "cell_type": "code",
   "execution_count": 46,
   "metadata": {},
   "outputs": [],
   "source": [
    "df_master.to_excel('df_master.xlsx', index = False)"
   ]
  }
 ],
 "metadata": {
  "colab": {
   "collapsed_sections": [
    "dw1rGV5TrYhh",
    "o02j3KLw8gb3",
    "xmXmJNJY8sC6",
    "JtuhXo2xtiMO",
    "mYdCf8CE-lCk",
    "SaWuf4PC8fg5",
    "ZtDRlErZ84Cl",
    "ejTkoO-s9HcT",
    "2Yf4I5ih-R1e",
    "uLwBSXz-aS-q",
    "FIQXuGyTDGlS",
    "Dvm_F5ScEb6l",
    "rmDZgDh2afWA",
    "Vr3744xm0KtX",
    "ljRDDGQm1F8X",
    "03JbV29C1jfh",
    "hx_VDqEI2FWC"
   ],
   "provenance": []
  },
  "kernelspec": {
   "display_name": "base",
   "language": "python",
   "name": "python3"
  },
  "language_info": {
   "codemirror_mode": {
    "name": "ipython",
    "version": 3
   },
   "file_extension": ".py",
   "mimetype": "text/x-python",
   "name": "python",
   "nbconvert_exporter": "python",
   "pygments_lexer": "ipython3",
   "version": "3.12.7"
  }
 },
 "nbformat": 4,
 "nbformat_minor": 0
}
